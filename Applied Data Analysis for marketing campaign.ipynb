{
 "cells": [
  {
   "attachments": {},
   "cell_type": "markdown",
   "id": "6ef62cbd-2ea0-442e-973e-e50ca1e97fa2",
   "metadata": {
    "cell_name": "header_cell"
   },
  },
  {
   "attachments": {},
   "cell_type": "markdown",
   "id": "ff597d6e-cdac-4d1a-b657-f6d756380ae3",
   "metadata": {
    "cell_name": "title_cell"
   },
   "source": [
    "#### REQUIREMENTS\n",
    "\n",
    "You will demonstrate your ability to work beyond your analysis in assignment 1 by:\n",
    "\n",
    "* analysing unstructured data (The Guardian json and text data),\n",
    "* effectively applying at least one new analysis technique introduced in module C, and\n",
    "* discussing ethical considerations relevant to the whole data analytics cycle.\n",
    "\n",
    "#### KEY STEPS\n",
    "\n",
    "1. Complete and run the code cell below to display your name, student number, and assignment option\n",
    "2. Based on **the scenario** below, identify a **high quality question** (or questions) that will be addressed by **data analytics narrative** to benefit **relevant stakeholders.**\n",
    "3. Complete the analysis ensuring that you meet the requirements above using approaches taken in class during module C. You **must use Guardian json data** for a source of unstructured data. \n",
    "4. Ensure that you include documentation of your thinking and decision-making using markdown cells. Make clear why you took that decisions that you did.\n",
    "5. Ensure that you include appropriate visualisations, and that they support the overall narrative\n",
    "6. Ensure that your insights answer your question/s and are appropriate to your narrative. \n",
    "7. Ensure that your insights are consistent with the ethical considerations discussed.\n",
    "\n",
    "**NOTE:** You may use any of your relevant analysis from assignment 1 if you wish (ensure that you are clear that you are using your previous work).\n",
    "\n",
    "#### SUBMISSION ####\n",
    "\n",
    "1. Create an assignment 2 folder named in the form **UA2-surname-idnumber** and put your notebook and any data files inside this folder. Note, do not put large training data in this folder (reference any training data that you used but keep it outside this folder), only keep small data files and models in this folder with your notebook.\n",
    "2. When you have everything in the correct folder, reset all cells and restart the kernel, then run the notebook completely, checking that all cells have run without error. If you encounter errors, fix your notebook and re-run the process. It is important that your notebook runs without errors only requiring the files in the folder that you have created.\n",
    "3. When the notebook is error free, zip the entire folder (you can select download folder in Jupyter).\n",
    "4. Submit the zipped folder on Canvas [UA2 - Assignment 2 - applied data analysis](https://canvas.qut.edu.au/courses/21175/assignments/186256)\n"
   ]
  },
  {
   "cell_type": "markdown",
   "id": "25e48376",
   "metadata": {},
   "source": [
    "---\n",
    "\n",
    "#### SCENARIO\n",
    "\n",
    "You are a data scientist supporting a South East Queensland tourism business. The business provides bespoke tours to international tourists, particularly beach-goers. To ensure the best quality experience of  clients, management wants to ensure they are always across information relevant to their clients. Management would like to see if its possible to have a weekly report on relevant information from diverse sources like beach conditions and relevant news. Management don't require a polished report at this point, but they do need a convincing story that shows the concept could be helpful for the business.\n",
    "\n",
    "\n",
    "**Notes:** \n",
    "\n",
    "* You have already demonstrated what is possible with tide and wave information (beach conditions) in assignment 1. In this assignment, you can draw on this analysis for insights relevant to this scenario, and focus data analysis on the relevant news. \n",
    "* As this is a proof-of-concept for management, you may choose a specific example (e.g. Sunshine Coast location) to focus on. Ensure that your narrative justifies your choice.\n",
    "* To help make your narrative realistic, you can create fictional details for the scenario above (e.g. business name, specific examples, etc)\n",
    "\n",
    "---"
   ]
  },
  {
   "cell_type": "code",
   "execution_count": 4,
   "id": "763f6f63",
   "metadata": {},
   "outputs": [
    {
     "data": {
      "text/html": [
       "<h1>Le Khanh Linh Pham (n10364960)</h1>"
      ],
      "text/plain": [
       "<IPython.core.display.HTML object>"
      ]
     },
     "execution_count": 4,
     "metadata": {},
     "output_type": "execute_result"
    }
   ],
   "source": [
    "# Complete the following cell with your details and run to produce your personalised header for this assignment\n",
    "\n",
    "from IPython.display import HTML\n",
    "\n",
    "# personal details\n",
    "first_name = 'Le Khanh Linh'\n",
    "last_name = 'Pham'\n",
    "student_number = 'n10364960'\n",
    "\n",
    "personal_header = f\"<h1>{first_name} {last_name} ({student_number})</h1>\"\n",
    "HTML(personal_header)"
   ]
  },
  {
   "cell_type": "markdown",
   "id": "4227d7db-a40d-468b-a5c9-1e62bfe90eb8",
   "metadata": {},
   "source": [
    "---\n",
    "# ANALYSIS\n",
    "\n",
    "## SCENARIO\n",
    "Flight Centre in Gold Coast is seeking relevant information about beach activities to develop an effective promotional campaign aimed at attracting tourist for this coming whale watching season (from June to October). The current approach involves generating a weekly report focusing on general beach activities and tourism trends in the Gold Coast published by *The Guardian*.\n",
    "\n",
    "## CONCERN:\n",
    "\n",
    "### Data Source:\n",
    "\n",
    "*The Guardian* is a well-known daily newspaper that covers a wide range of topics, including politics, the environment, science, social justice, sports, and culture. However, articles from The Guardian only reflect what the editors choose to publish, and may not accurately reflect the views or interests of our primary audience. More importantly, key trends, seasonal surges, or shifts in tourist behavior might be overlooked if they are not deemed newsworthy and therefore go unreported by *The Guardian*. This will adversely affect the success of marketing campaigns if we relies solely on the data extracted from *The Guardian* to make decisions for the upcoming campaign.\n",
    "\n",
    "### Timeliness\n",
    "\n",
    "Newspaper follow the news cycle, which means topics being published follow the rhythm of what is considered dramatic or urgent events and priotise stories that are relevant and have public interest. This patterns suggest that whale watching or beach tourism might receive little or even no coverage if it is not breaking news. If solely depends on weekly report from *The Guardian*, Flight Centre will not be able to obtain consistent and timely updates to support its promotional campaign. Instead, a monthly report allows Flight Centre to capture significant trends or emerging narrative about whale watching, identify gradual changes in tourism trends, media sentiment and public perception\n",
    "\n",
    "### Coverage Relevance\n",
    "\n",
    "A weekly report may be too narrow and reactive, often capturing short-term anomalies rather than meaningful insights. Relying solely on weekly data from The Guardian offers limited variation and depth, as news stories typically do not change significantly week to week unless major events occur. In this context, a weekly report is more suitable for monitoring beach-related news that may be relevant for issuing tourist advisories, rather than for informing strategic marketing campaigns aimed at attracting more visitors.\n",
    "\n",
    "However, the data extracted from The Guardian can still provide valuable insights into public perception and media sentiment surrounding whale watching and beach-related activities. By analysing how these topics are framed in the media, we can identify recurring themes such as eco-tourism or whale protection and then thoughtfully incorporate these elements into our marketing campaign. If such issues are frequently highlighted, aligning our campaign with responsible tourism practices can enhance credibility, build trust with environmentally conscious travellers, and differentiate our offering in a competitive market.\n",
    "\n",
    "## STAKEHOLDERS: \n",
    "\n",
    "Stakeholders include Flight Centre, tourists, local whale watching tour operators, local small businesses (such as restaurants, shops, and department stores), and the Gold Coast City Council.\n",
    "\n",
    "1. **Flight Centre** bears the highest stakes, as the company is funding the campaign, and its return on investment, brand performance, and competitive positioning rely heavily on the campaign's effectiveness. Additionally, a successful campaign could strengthen Flight Centre’s reputation as a key promoter of regional tourism, while failure could result in financial losses and missed opportunities during the critical whale watching season. \n",
    "\n",
    "2. **Whale watching tour operators** are also an important and high stake stakeholders. Their businesses are extremely season-dependent, which means they are particularly vulnerable if promotional efforts fall short. However, if the campaign succeeds, they gain exposure, grow their businesses and generate more income with more bookings coming their way.\n",
    "\n",
    "3. **Tourists** depend on the campaign for reliable, engaging, and informative content to plan their trips. They expect value, safety, and meaningful experiences, especially with nature-based activities like whale watching. Poorly designed or misleading promotions could lead to disappointment, bad reviews, or missed opportunities.\n",
    "\n",
    "4. **Local Small Businesses** are the indirect beneficiaries of increased tourism from the campaign. Higher tourist traffic during whale watching season can boost sales, foot traffic, and local brand recognition. A weak campaign could mean fewer visitors and reduced economic activity for these businesses.\n",
    "\n",
    "5. **Gold Coast City Council** interest in promoting the region’s tourism and economic growth. A successful campaign supports destination branding, sustainable tourism, and community development goals. A poorly executed campaign may weaken the region’s competitive image and impact long-term tourism strategy.\n",
    "\n",
    "## QUESTION:\n",
    "\n",
    "The question must align with stakeholders' core concerns and effectively support the goals of the marketing campaign. By extracting and analysing data from The Guardian, Flight Centre can gain insights into how Gold Coast tourism is portrayed in the media, especially beach and whale watching experiences. This will help them determine what to promote and how to position their offerings by crafting messages that resonate with potential tourists.\n",
    "\n",
    "If the campaign is successful, local tour operators and small businesses will benefit by aligning their products and services with the campaign’s focus, offering featured experiences that meet tourist expectations. By observing Flight Centre’s strategy, they can better prepare for anticipated demand, particularly around activities that are likely to capture tourist interest.\n",
    "\n",
    "Tourists will enjoy more relevant, engaging, and satisfying experiences during their visit to the Gold Coast, as the campaign will reflect their values and interests. Finally, the Gold Coast City Council can leverage the campaign’s success to enhance the city’s tourism image, positively influence media narratives, and promote the region as a desirable and sustainable travel destination.\n",
    "\n",
    "After careful consideration, it is clear that the following question must be addressed in order to obtain relevant insights that will support strategic planning for the marketing campaign:\n",
    "\n",
    "<div style=\"background:#FFFFEE; color:#440404; padding:8px; border-radius: 4px; text-align: center; font-weight: 500;\">What types of beach activities and whale watching experiences are most discussed and how are these experiences being portrayed in The Guardian news coverage?</div>\n",
    " \n",
    "### Exploring Data\n",
    "\n",
    "Based on the above concerns and limitations, it is best to report the insights extracting from *The Guardian* every month for trend analysis that would provides an overview and analysis of monthly shifts in sentiment. Therefore, it is important to extract frequently occuring topics that related to whale watching, or emerging themes related to common themes like wildlife tourism, marine life, beach activities."
   ]
  },
  {
   "cell_type": "markdown",
   "id": "f5ccae44-6af9-4744-9c98-69874fe8cbf5",
   "metadata": {},
   "source": [
    "\n",
    "---\n",
    "## DATA\n",
    "\n",
    "To extract the necessary articles from The Guardian, we must first identify the appropriate search strings to locate content that may reflect tourism trends in Australia.\n",
    "\n",
    "### Reflect on the data\n",
    "\n",
    "What does the data tell us?\n",
    "What can we do with the data to address your question?\n",
    "Why is the data relevant to addressing your question?\n",
    "Are their data quality issues? What consequences we might have if we don't address those issues (in relation to addressing your question), and why?\n",
    "\n"
   ]
  },
  {
   "cell_type": "code",
   "execution_count": 7,
   "id": "dca76aa9",
   "metadata": {},
   "outputs": [],
   "source": [
    "from sklearn.feature_extraction.text import TfidfVectorizer, CountVectorizer\n",
    "from sklearn.decomposition import LatentDirichletAllocation, NMF\n",
    "import pandas as pd\n",
    "import json\n",
    "import random\n",
    "\n",
    "import requests\n",
    "import re\n",
    "import time\n",
    "\n",
    "with open('Private/guardian_key.txt', 'r') as file:\n",
    "    key = file.read().strip()"
   ]
  },
  {
   "cell_type": "markdown",
   "id": "e8f97a47-4cbe-4c12-80c2-5f4b485d93dd",
   "metadata": {},
   "source": [
    "After testing various search strings, I found that the one below returned the most relevant results for extracting articles needed for the company’s analysis. This search string effectively filters for articles that mention key activities typically associated with whale watching, ensuring that the content is both focused and useful for identifying tourism related themes in Gold Coast."
   ]
  },
  {
   "cell_type": "code",
   "execution_count": 9,
   "id": "4d1daab7-b67a-43c9-8104-af2b43da6638",
   "metadata": {},
   "outputs": [
    {
     "name": "stdout",
     "output_type": "stream",
     "text": [
      "https://content.guardianapis.com/search?q=%22Gold%20Coast%22%20AND%20%28%22beach%22%20OR%20%22whale%20watching%22%20OR%20%22whale%22%20OR%20%22whale%20sighting%22%20OR%20%22activities%22%20OR%20%22swim%22%20OR%20%22swimming%22%20OR%20%22coastal%20getaway%22%20OR%20%22marine%22%20OR%20%22lookout%20points%22%20OR%20%22lookout%22%20OR%20%22wildlife%22%20OR%20%22beach%20activities%22%29&production-office=aus&from-date=2025-04-1&to-date=2025-05-01&show-fields=body&api-key=34dae293-4bdb-4bb8-80ba-7c11514f2c88\n"
     ]
    }
   ],
   "source": [
    "import urllib.parse\n",
    "\n",
    "base_url = 'https://content.guardianapis.com/'\n",
    "search_string = '\"Gold Coast\" AND (\"beach\" OR \"whale watching\" OR \"whale\" OR \"whale sighting\" OR \"activities\" OR \"swim\" OR \"swimming\" OR \"coastal getaway\" OR \"marine\" OR \"lookout points\" OR \"lookout\" OR \"wildlife\" OR \"beach activities\")'\n",
    "\n",
    "encoded_query = urllib.parse.quote(search_string)\n",
    "\n",
    "production_office = \"aus\"\n",
    "from_date = \"2025-04-1\"\n",
    "to_date = \"2025-05-01\"\n",
    "\n",
    "full_url = base_url+f\"search?q={encoded_query}&production-office={production_office}&from-date={from_date}&to-date={to_date}&show-fields=body&api-key={key}\"\n",
    "\n",
    "print(full_url)"
   ]
  },
  {
   "cell_type": "code",
   "execution_count": 10,
   "id": "d1cc00db-c07d-4c79-bfaa-81f717e4a2bb",
   "metadata": {},
   "outputs": [
    {
     "name": "stdout",
     "output_type": "stream",
     "text": [
      "SUCCESS!\n",
      "10 results found available in 1 pages\n",
      "10 results per page\n"
     ]
    }
   ],
   "source": [
    "# get data from server\n",
    "server_response = requests.get(full_url)\n",
    "server_data = server_response.json()\n",
    "resp_data = server_data.get('response','')\n",
    "if resp_data == '':\n",
    "    print(\"ERROR obtaining results:\",server_data)\n",
    "else:\n",
    "    print(\"SUCCESS!\")\n",
    "    print(f\"{resp_data['total']} results found available in {resp_data['pages']} pages\")\n",
    "    print(f\"{resp_data['pageSize']} results per page\")\n",
    "    results = resp_data.get('results',[])\n",
    "    "
   ]
  },
  {
   "cell_type": "markdown",
   "id": "75bd3198-0f69-4969-8246-56166a4e8259",
   "metadata": {},
   "source": [
    "The search found 10 results that contains the relevant search strings. I extracted and saved the data file name ***GoldCoast_articles***."
   ]
  },
  {
   "cell_type": "code",
   "execution_count": 12,
   "id": "75bddd20-2d68-456e-859d-5d3f9e291f3e",
   "metadata": {},
   "outputs": [],
   "source": [
    "def articles_from_page_results(page_results):\n",
    "    articles = {}\n",
    "    for result in page_results:\n",
    "        article_date = result['webPublicationDate']\n",
    "        article_title = result['webTitle']+f\" [{article_date}]\"\n",
    "        article_html = result['fields']['body']\n",
    "        article_text = re.sub(r'<.*?>','',article_html)\n",
    "        articles[article_title] = article_text\n",
    "    return articles"
   ]
  },
  {
   "cell_type": "code",
   "execution_count": 13,
   "id": "165b4b34-faf5-468b-a880-3ba614d04b98",
   "metadata": {},
   "outputs": [],
   "source": [
    "def get_all_articles_for_response(response_json,full_url):\n",
    "    total_pages = response_json['pages']\n",
    "    total_articles = response_json['total']\n",
    "    print(f\"Fetching {total_articles} articles from {total_pages} pages...\")\n",
    "    all_articles = {}\n",
    "    page1_articles = articles_from_page_results(response_json['results'])\n",
    "    all_articles.update(page1_articles)\n",
    "    print(\"Added articles for page: 1\")\n",
    "    \n",
    "    for page in range(2,total_pages+1):\n",
    "        print(\"Getting articles from API for page:\",page)\n",
    "        page_response = requests.get(full_url+f\"&page={page}\")\n",
    "        page_data = page_response.json()['response']\n",
    "        print(\"Processing results for page:\",page_data['currentPage'])\n",
    "        page_articles = articles_from_page_results(page_data['results'])\n",
    "        print(f\"Fetched {len(page_articles)} articles.\")\n",
    "        all_articles.update(page_articles)\n",
    "        print(\"Added articles for page:\",page)\n",
    "        print(f\"Status: {len(all_articles)} articles.\")\n",
    "        time.sleep(1) # make sure we're not hitting the API to hard\n",
    "    \n",
    "    print(f\"FINISHED: Fetched {len(all_articles)} articles.\")\n",
    "    return all_articles\n"
   ]
  },
  {
   "cell_type": "code",
   "execution_count": 14,
   "id": "7fca77a2-40ee-4157-bb65-6bfbdf347f5b",
   "metadata": {},
   "outputs": [
    {
     "name": "stdout",
     "output_type": "stream",
     "text": [
      "Fetching 10 articles from 1 pages...\n",
      "Added articles for page: 1\n",
      "FINISHED: Fetched 10 articles.\n"
     ]
    }
   ],
   "source": [
    "my_articles = get_all_articles_for_response(resp_data,full_url)"
   ]
  },
  {
   "cell_type": "code",
   "execution_count": 15,
   "id": "4d71bbcf-695b-487f-8fb8-4dca02fbf37b",
   "metadata": {},
   "outputs": [
    {
     "name": "stdout",
     "output_type": "stream",
     "text": [
      "Total Articles: 10\n",
      "Six reasons why the Sanctuary Cove International Boat Show is the perfect family day out [2025-04-22T01:04:24Z]\n",
      "‘Best day of my life’, ‘surreal and special’: Australian victories at Bells Beach mean more to local surfers | Kieran Pender [2025-04-28T02:37:27Z]\n",
      "Australia’s women’s surfers lead local charge before bell tolls on WSL season | Kieran Pender [2025-04-17T15:00:43Z]\n",
      "Winter weekenders: 21 Australian festivals worth travelling for from May to August 2025 [2025-04-24T15:00:08Z]\n",
      "‘A meditative practice’: the Australian Sand Sculpting Championships 2025 [2025-04-08T04:58:45Z]\n",
      "Away with Sofia Levin: ‘I tried raw pig’s blood soup. If it’s good enough for Bourdain, it’s good enough for me’ [2025-04-27T15:00:39Z]\n",
      "Sierra and Josh Kerr: father-daughter duo who are the past, present and future of surfing | Kieran Pender [2025-04-05T20:00:35Z]\n",
      "New renovations, retro vibes: reviving Australia’s rundown motels [2025-04-26T00:00:48Z]\n",
      "Morning Mail: Trump threatens more China tariffs, Dutton’s ‘isolationist’ student plan, Fowler fires up Matildas [2025-04-07T20:48:39Z]\n",
      "Latham ordered to pay independent MP’s legal costs after losing defamation case – as it happened [2025-04-04T06:35:22Z]\n"
     ]
    }
   ],
   "source": [
    "print(\"Total Articles:\",len(my_articles))\n",
    "for title,text in my_articles.items():\n",
    "    print(title)"
   ]
  },
  {
   "cell_type": "code",
   "execution_count": 16,
   "id": "da75ac83-a274-4973-904e-1a0dcb61d3f1",
   "metadata": {},
   "outputs": [],
   "source": [
    "file_path = \"data/\"\n",
    "file_name = \"GoldCoast_articles.json\"\n",
    "\n",
    "with open(f\"{file_path}{file_name}\",'w', encoding='utf-8') as fp:\n",
    "    fp.write(json.dumps(my_articles))"
   ]
  },
  {
   "cell_type": "code",
   "execution_count": 17,
   "id": "69d25202-f913-4883-a4fe-c3281b5686e8",
   "metadata": {},
   "outputs": [
    {
     "name": "stdout",
     "output_type": "stream",
     "text": [
      "Loaded 10 articles from GoldCoast_articles.json\n"
     ]
    }
   ],
   "source": [
    "with open(f\"{file_path}{file_name}\",'r', encoding='utf-8') as fp:\n",
    "    articles = json.load(fp)\n",
    "\n",
    "print(f\"Loaded {len(articles)} articles from {file_name}\")"
   ]
  },
  {
   "cell_type": "markdown",
   "id": "57fb8391-1076-41a5-851b-ea7aa7797270",
   "metadata": {},
   "source": [
    "I viewed the first 300 words of the first article to test if the data is extracted and saved successfully."
   ]
  },
  {
   "cell_type": "code",
   "execution_count": 19,
   "id": "12b3918a-c5a7-4828-a248-990ed638588e",
   "metadata": {},
   "outputs": [
    {
     "name": "stdout",
     "output_type": "stream",
     "text": [
      "Key: Six reasons why the Sanctuary Cove International Boat Show is the perfect family day out [2025-04-22T01:04:24Z]\n",
      "Value: Whether you’re into superyacht luxury or messing around under the hood, there’s nothing quite like the lifestyle that goes along with getting out on the water. That’s why the Sanctuary Cove International Boat Show (SCIBS) returns every year to celebrate all things boating through a four-day event he ...\n"
     ]
    }
   ],
   "source": [
    "article1 = list(articles.items())[0]\n",
    "print(\"Key:\",article1[0])\n",
    "print(\"Value:\",article1[1][:300],\"...\")"
   ]
  },
  {
   "cell_type": "markdown",
   "id": "5c0f67e7-883a-48f1-ab7e-2e6e55ef607b",
   "metadata": {},
   "source": [
    "I saved each articles into a list and saved it to variable *documents*."
   ]
  },
  {
   "cell_type": "code",
   "execution_count": 21,
   "id": "c5497b61-7e97-4e47-80ed-a8f0b3b9e046",
   "metadata": {},
   "outputs": [
    {
     "data": {
      "text/plain": [
       "'Whether you’re into superyacht luxury or messing around under the hood, there’s nothing quite like the lifestyle that goes along with getting out on the water. That’s why the Sanctuary Cove International Boat Show (SCIBS) returns every year to celebrate all things boating through a four-day event held on the Gold Coast. \\nSCIBS will cram a lot into its 36th annual event when it returns to Sanctuary Cove from 22-25 May. On the main stage, there will be something for the whole family, with stage shows plus cooking, boating and fishing tips. All event long, an amazing selection of sleek superyachts will be docked and on display on the marina, ready for you to admire, and \\nSCIBS hosts lots of kid-friendly immersive experiences, making it an unbeatable day out for everyone. \\n \\n Photograph: supplied \\n \\nHere are six reasons to be there – with the little ones in tow – when SCIBS returns for 2025. \\nMermaid selfies \\nColourful street performers will be roving SCIBS for the length of the event. They’ll be dressed as everything from awe-inspiring acrobats on stilts to beautiful mermaids – in costumes that are sure to delight little visitors. And yes, they will stop for photos. \\nA very fun pirate show \\n \\n Mr Kaboodle and the Wobbly Pirate Show. Photograph: supplied \\n \\nOn the main stage you can settle in for a SCIBS staple: Mr Kaboodle and the Wobbly Pirate Show. This fantastic kids’ show is on throughout the weekend, so there will be plenty of opportunities to catch it. \\nA ginormous fish tank \\nThe Berkley Supertank offers spectators a fish’s-eye view of the world without having to get wet. A giant mobile fish tank, it will entertain dad and the kids alike. Little ones will love the chance to see so many fish swimming about, while fishing aficionados will get to watch expert Brett Thompson demonstrate different types of lures and angling techniques. \\nA trip out on the water \\n \\n Photograph: supplied \\n \\nTake the kids out on the water in the Sea Trial Zone, where you will have the chance to step aboard the latest vessels in an immersive boating experience. Experts will show you the ropes and be on hand to answer any questions you might have during the demonstration. \\nThis year, SCIBS is also launching a new Luxury Sea Trial Precinct, giving premium buyers an exclusive opportunity to test-drive cutting-edge vessels on the stunning Gold Coast waters. \\nFace painting and glitter tattoos \\nThere’s a dedicated kids’ zone to be found at SCIBS, where you can stop in to enjoy oh-so-fun things such as face painting, glitter tattoos and arts and crafts. \\nWorld Boating Day \\n \\n Photograph: supplied \\n \\nSaturday 24 May is World Boating Day - one big celebration of all things boating and marine. For the duration of SCIBS, attendees will have the chance to immerse themselves in the leisure boating scene – from cool gear and gadgets, to the latest innovation in watercraft. The kids will be thrilled by the spectacle, and you’ll walk away with some new items for your wishlist. \\n  \\n  \\n   \\n    \\n    Sanctuary Cove is home to the InterContinental Sanctuary Cove Resort, a luxury hotel that is nestled amidst award-winning golf courses and 4.2ha of tropical gardens, looks out on the Sanctuary Cove Marina, and is famous for its lagoon pool.\\n    Other great stays on the Gold Coast include the child-friendly Sofitel Gold Coast Broadbeach, which offers the chance to book an adjoining room for your kids at 50% off, along with free breakfast and a late checkout.\\n    \\n    For a dependable budget option, Nobby Beach Holiday Village offers reasonably priced two-bedroom villas with enough room for the whole family to spread out, just 500 metres from the beach. The on-site swimming pool with a water slide is sure to keep the kids busy.\\n    \\n   \\n  \\n  \\n \\n  \\n  \\n   \\n    \\n    If you’re travelling to the Sanctuary Cove International Boat Show, why not extend your stay and explore what else the Gold Coast has to offer?\\n    Arrive early in time to catch Blues on Broadbeach, the Gold Coast’s blues music-focused festival, which hits town from 15-18 May. Most of the music is ticketless, so being there doesn’t have to cost you a penny.\\n    Make your kids’ dreams come true with a visit to the Gold Coast’s famous theme parks: Movie World, Sea World, Wet’n’Wild and Dreamworld. You could also blow their minds with a trip to SkyPoint atop Q1, Australia’s tallest building, which offers 360-degree views of the Gold Coast below. And the kids will love the Currumbin Wildlife Sanctuary, home to capybaras, Tassie devils and even red pandas.\\n    \\n   \\n  \\n  \\n \\nSee what’s on at SCIBS.'"
      ]
     },
     "execution_count": 21,
     "metadata": {},
     "output_type": "execute_result"
    }
   ],
   "source": [
    "# Get a list of documents\n",
    "documents = list(articles.values())\n",
    "\n",
    "# View the first document\n",
    "documents[0]"
   ]
  },
  {
   "cell_type": "markdown",
   "id": "fbc87068-2b69-4a47-99d5-a4a56e092108",
   "metadata": {},
   "source": [
    "## Exploring the data\n",
    "\n",
    "### Unstructured Analysis\n",
    "\n",
    "We will use Term Frequency/Inverse Document Frequency (TF/IDF) to analyse the unstructed data we got from *The Guardian*.\n",
    "\n",
    "Term Count Vectors can be helpful in understanding the type of text by the frequency of words in it. However, it also means that this technique will just consider words that are abundant in a corpus as the most statistically significant word. Further, it is also unable to identifying more important and less important words for analysis. On the other hand, TFIDF is based on the logic that words that are too abundant in a corpus and words that are too rare are both not statistically important for finding a pattern. Since TF/IDF penalised words that occurred too often in too many documents, it can measure how important a term is within a document relative to a corpus.\n",
    "\n",
    "However, it is important to note that TF/IDF, similar to Term Count and many other machine learning techniques, are unable to identify the relationships and nuances of natural language words such as linguistic similarity between words [(Reference)](https://www.linkedin.com/pulse/count-vectorizers-vs-tfidf-natural-language-processing-sheel-saket/).\n",
    "\n",
    "To reduce the possibility of TF/IDF calculating abundant terms as statistically significant words, we have to set the parameters of TfidfVectorizer to *max_df = 0.80* and *min_df = 2*. This means they will only count words that occurred in a maximum of 80% of the documents and appeared in a minimum of 2 articles. We also wants to exclude extremely common English words that typically carry little meaningful information, which is why we set the parameters *stop_word* to *\"english\"*. Further, we also want a list of maximum 10,000 words so we limited the number of words count to *max_features = 10000*."
   ]
  },
  {
   "cell_type": "code",
   "execution_count": 23,
   "id": "4d61c43b-b199-4e0b-ba7e-965633f676fc",
   "metadata": {},
   "outputs": [
    {
     "data": {
      "text/plain": [
       "array(['000', '10', '11', ..., 'yes', 'young', 'zone'], dtype=object)"
      ]
     },
     "execution_count": 23,
     "metadata": {},
     "output_type": "execute_result"
    }
   ],
   "source": [
    "# Only count terms that in maximum of 80% of documents, and a minimum of 2 documents. \n",
    "# Count a maximum of 10000 terms, and remove common english stop words\n",
    "\n",
    "tfidf_vectorizer = TfidfVectorizer(\n",
    "    max_df=0.80, min_df=2, max_features=10000, stop_words=\"english\"\n",
    ")\n",
    "tfidf_dt_matrix = tfidf_vectorizer.fit_transform(articles.values())\n",
    "\n",
    "# Get the feature names from the vectorising process\n",
    "feature_names = tfidf_vectorizer.get_feature_names_out()\n",
    "feature_names"
   ]
  },
  {
   "cell_type": "code",
   "execution_count": 24,
   "id": "3189134c-b8f0-4cd4-89cc-371ddb7cb08f",
   "metadata": {},
   "outputs": [
    {
     "data": {
      "text/plain": [
       "<10x1021 sparse matrix of type '<class 'numpy.float64'>'\n",
       "\twith 2668 stored elements in Compressed Sparse Row format>"
      ]
     },
     "execution_count": 24,
     "metadata": {},
     "output_type": "execute_result"
    }
   ],
   "source": [
    "tfidf_dt_matrix"
   ]
  },
  {
   "cell_type": "markdown",
   "id": "46c7f621-7a6f-4f50-b46c-800311c98f2a",
   "metadata": {},
   "source": [
    "We have 10 documents with 1021 unique words (vocabulary) used among all 10."
   ]
  },
  {
   "cell_type": "code",
   "execution_count": 26,
   "id": "c7d52dfb-f746-4b85-a6f9-a2858f123133",
   "metadata": {},
   "outputs": [
    {
     "data": {
      "text/plain": [
       "['Six reasons why the Sanctuary Cove International Boat Show is the perfect family day out [2025-04-22T01:04:24Z]',\n",
       " '‘Best day of my life’, ‘surreal and special’: Australian victories at Bells Beach mean more to local surfers | Kieran Pender [2025-04-28T02:37:27Z]',\n",
       " 'Australia’s women’s surfers lead local charge before bell tolls on WSL season | Kieran Pender [2025-04-17T15:00:43Z]',\n",
       " 'Winter weekenders: 21 Australian festivals worth travelling for from May to August 2025 [2025-04-24T15:00:08Z]',\n",
       " '‘A meditative practice’: the Australian Sand Sculpting Championships 2025 [2025-04-08T04:58:45Z]',\n",
       " 'Away with Sofia Levin: ‘I tried raw pig’s blood soup. If it’s good enough for Bourdain, it’s good enough for me’ [2025-04-27T15:00:39Z]',\n",
       " 'Sierra and Josh Kerr: father-daughter duo who are the past, present and future of surfing | Kieran Pender [2025-04-05T20:00:35Z]',\n",
       " 'New renovations, retro vibes: reviving Australia’s rundown motels [2025-04-26T00:00:48Z]',\n",
       " 'Morning Mail: Trump threatens more China tariffs, Dutton’s ‘isolationist’ student plan, Fowler fires up Matildas [2025-04-07T20:48:39Z]',\n",
       " 'Latham ordered to pay independent MP’s legal costs after losing defamation case – as it happened [2025-04-04T06:35:22Z]']"
      ]
     },
     "execution_count": 26,
     "metadata": {},
     "output_type": "execute_result"
    }
   ],
   "source": [
    "titles=list(articles.keys())\n",
    "titles"
   ]
  },
  {
   "cell_type": "markdown",
   "id": "a6c0e422-1ed3-4097-bfe8-1310c1b910c2",
   "metadata": {},
   "source": [
    "#### Display matrix in dataframe\n",
    "We aim to determine whether both techniques identify similar key terms. To facilitate this, we organize the TF-IDF and NMF results into a matrix for clear visualisation and easier interpretation."
   ]
  },
  {
   "cell_type": "code",
   "execution_count": 28,
   "id": "882bd911-fbf4-4b40-bd66-32319a9bc719",
   "metadata": {},
   "outputs": [],
   "source": [
    "tfidf_df = pd.DataFrame(tfidf_dt_matrix.toarray(), columns=feature_names)"
   ]
  },
  {
   "cell_type": "code",
   "execution_count": 29,
   "id": "844c4972-c661-4dff-b251-b41db4b6c9dd",
   "metadata": {},
   "outputs": [
    {
     "data": {
      "text/html": [
       "<div>\n",
       "<style scoped>\n",
       "    .dataframe tbody tr th:only-of-type {\n",
       "        vertical-align: middle;\n",
       "    }\n",
       "\n",
       "    .dataframe tbody tr th {\n",
       "        vertical-align: top;\n",
       "    }\n",
       "\n",
       "    .dataframe thead th {\n",
       "        text-align: right;\n",
       "    }\n",
       "</style>\n",
       "<table border=\"1\" class=\"dataframe\">\n",
       "  <thead>\n",
       "    <tr style=\"text-align: right;\">\n",
       "      <th></th>\n",
       "      <th>title</th>\n",
       "      <th>tfidf</th>\n",
       "      <th>nmf</th>\n",
       "    </tr>\n",
       "  </thead>\n",
       "  <tbody>\n",
       "    <tr>\n",
       "      <th>0</th>\n",
       "      <td>Six reasons why the Sanctuary Cove Internation...</td>\n",
       "      <td>NaN</td>\n",
       "      <td>NaN</td>\n",
       "    </tr>\n",
       "    <tr>\n",
       "      <th>1</th>\n",
       "      <td>‘Best day of my life’, ‘surreal and special’: ...</td>\n",
       "      <td>NaN</td>\n",
       "      <td>NaN</td>\n",
       "    </tr>\n",
       "    <tr>\n",
       "      <th>2</th>\n",
       "      <td>Australia’s women’s surfers lead local charge ...</td>\n",
       "      <td>NaN</td>\n",
       "      <td>NaN</td>\n",
       "    </tr>\n",
       "    <tr>\n",
       "      <th>3</th>\n",
       "      <td>Winter weekenders: 21 Australian festivals wor...</td>\n",
       "      <td>NaN</td>\n",
       "      <td>NaN</td>\n",
       "    </tr>\n",
       "    <tr>\n",
       "      <th>4</th>\n",
       "      <td>‘A meditative practice’: the Australian Sand S...</td>\n",
       "      <td>NaN</td>\n",
       "      <td>NaN</td>\n",
       "    </tr>\n",
       "    <tr>\n",
       "      <th>5</th>\n",
       "      <td>Away with Sofia Levin: ‘I tried raw pig’s bloo...</td>\n",
       "      <td>NaN</td>\n",
       "      <td>NaN</td>\n",
       "    </tr>\n",
       "    <tr>\n",
       "      <th>6</th>\n",
       "      <td>Sierra and Josh Kerr: father-daughter duo who ...</td>\n",
       "      <td>NaN</td>\n",
       "      <td>NaN</td>\n",
       "    </tr>\n",
       "    <tr>\n",
       "      <th>7</th>\n",
       "      <td>New renovations, retro vibes: reviving Austral...</td>\n",
       "      <td>NaN</td>\n",
       "      <td>NaN</td>\n",
       "    </tr>\n",
       "    <tr>\n",
       "      <th>8</th>\n",
       "      <td>Morning Mail: Trump threatens more China tarif...</td>\n",
       "      <td>NaN</td>\n",
       "      <td>NaN</td>\n",
       "    </tr>\n",
       "    <tr>\n",
       "      <th>9</th>\n",
       "      <td>Latham ordered to pay independent MP’s legal c...</td>\n",
       "      <td>NaN</td>\n",
       "      <td>NaN</td>\n",
       "    </tr>\n",
       "  </tbody>\n",
       "</table>\n",
       "</div>"
      ],
      "text/plain": [
       "                                               title tfidf  nmf\n",
       "0  Six reasons why the Sanctuary Cove Internation...   NaN  NaN\n",
       "1  ‘Best day of my life’, ‘surreal and special’: ...   NaN  NaN\n",
       "2  Australia’s women’s surfers lead local charge ...   NaN  NaN\n",
       "3  Winter weekenders: 21 Australian festivals wor...   NaN  NaN\n",
       "4  ‘A meditative practice’: the Australian Sand S...   NaN  NaN\n",
       "5  Away with Sofia Levin: ‘I tried raw pig’s bloo...   NaN  NaN\n",
       "6  Sierra and Josh Kerr: father-daughter duo who ...   NaN  NaN\n",
       "7  New renovations, retro vibes: reviving Austral...   NaN  NaN\n",
       "8  Morning Mail: Trump threatens more China tarif...   NaN  NaN\n",
       "9  Latham ordered to pay independent MP’s legal c...   NaN  NaN"
      ]
     },
     "execution_count": 29,
     "metadata": {},
     "output_type": "execute_result"
    }
   ],
   "source": [
    "# Create a dataframe to hold top terms for each analysis type\n",
    "terms_df = pd.DataFrame(index=tfidf_df.index,columns=['title','tfidf','nmf'])\n",
    "terms_df['title'] = titles\n",
    "terms_df"
   ]
  },
  {
   "cell_type": "markdown",
   "id": "96e9b4b4-51a9-4932-82d3-7f47698f9016",
   "metadata": {},
   "source": [
    "#### Update Terms matrix\n",
    "\n",
    "We assign the top 10 most important terms identified by TF/IDF technique to the matrix **terms_df**.\n",
    "\n",
    "The presence of repeated terms across different articles can serve as a useful signal. When multiple articles share similar frequently used terms, it's often an indicator that they cover related topics. This insight can help in identifying content clusters, trending themes, or emerging topics of interest—valuable for strategic decision-making, content planning, or audience analysis."
   ]
  },
  {
   "cell_type": "code",
   "execution_count": 31,
   "id": "c93841f5-9292-497d-85f1-ebcb3391ce6d",
   "metadata": {},
   "outputs": [
    {
     "data": {
      "text/html": [
       "<div>\n",
       "<style scoped>\n",
       "    .dataframe tbody tr th:only-of-type {\n",
       "        vertical-align: middle;\n",
       "    }\n",
       "\n",
       "    .dataframe tbody tr th {\n",
       "        vertical-align: top;\n",
       "    }\n",
       "\n",
       "    .dataframe thead th {\n",
       "        text-align: right;\n",
       "    }\n",
       "</style>\n",
       "<table border=\"1\" class=\"dataframe\">\n",
       "  <thead>\n",
       "    <tr style=\"text-align: right;\">\n",
       "      <th></th>\n",
       "      <th>title</th>\n",
       "      <th>tfidf</th>\n",
       "      <th>nmf</th>\n",
       "    </tr>\n",
       "  </thead>\n",
       "  <tbody>\n",
       "    <tr>\n",
       "      <th>0</th>\n",
       "      <td>Six reasons why the Sanctuary Cove Internation...</td>\n",
       "      <td>[kids, photograph, offers, water, chance, retu...</td>\n",
       "      <td>NaN</td>\n",
       "    </tr>\n",
       "    <tr>\n",
       "      <th>1</th>\n",
       "      <td>‘Best day of my life’, ‘surreal and special’: ...</td>\n",
       "      <td>[bells, nichols, wsl, surfing, robinson, final...</td>\n",
       "      <td>NaN</td>\n",
       "    </tr>\n",
       "    <tr>\n",
       "      <th>2</th>\n",
       "      <td>Australia’s women’s surfers lead local charge ...</td>\n",
       "      <td>[bells, surfing, wsl, ewing, season, win, year...</td>\n",
       "      <td>NaN</td>\n",
       "    </tr>\n",
       "    <tr>\n",
       "      <th>3</th>\n",
       "      <td>Winter weekenders: 21 Australian festivals wor...</td>\n",
       "      <td>[festival, sunday, arts, talks, lineup, music,...</td>\n",
       "      <td>NaN</td>\n",
       "    </tr>\n",
       "    <tr>\n",
       "      <th>4</th>\n",
       "      <td>‘A meditative practice’: the Australian Sand S...</td>\n",
       "      <td>[sand, said, competitors, artists, year, compe...</td>\n",
       "      <td>NaN</td>\n",
       "    </tr>\n",
       "    <tr>\n",
       "      <th>5</th>\n",
       "      <td>Away with Sofia Levin: ‘I tried raw pig’s bloo...</td>\n",
       "      <td>[food, person, good, including, travel, fresh,...</td>\n",
       "      <td>NaN</td>\n",
       "    </tr>\n",
       "    <tr>\n",
       "      <th>6</th>\n",
       "      <td>Sierra and Josh Kerr: father-daughter duo who ...</td>\n",
       "      <td>[sierra, surfing, josh, kerr, says, wsl, fathe...</td>\n",
       "      <td>NaN</td>\n",
       "    </tr>\n",
       "    <tr>\n",
       "      <th>7</th>\n",
       "      <td>New renovations, retro vibes: reviving Austral...</td>\n",
       "      <td>[sea, hotel, says, berry, south, new, sign, mo...</td>\n",
       "      <td>NaN</td>\n",
       "    </tr>\n",
       "    <tr>\n",
       "      <th>8</th>\n",
       "      <td>Morning Mail: Trump threatens more China tarif...</td>\n",
       "      <td>[trump, tariffs, education, war, minister, gov...</td>\n",
       "      <td>NaN</td>\n",
       "    </tr>\n",
       "    <tr>\n",
       "      <th>9</th>\n",
       "      <td>Latham ordered to pay independent MP’s legal c...</td>\n",
       "      <td>[dutton, updated, minister, sydney, tariffs, t...</td>\n",
       "      <td>NaN</td>\n",
       "    </tr>\n",
       "  </tbody>\n",
       "</table>\n",
       "</div>"
      ],
      "text/plain": [
       "                                               title  \\\n",
       "0  Six reasons why the Sanctuary Cove Internation...   \n",
       "1  ‘Best day of my life’, ‘surreal and special’: ...   \n",
       "2  Australia’s women’s surfers lead local charge ...   \n",
       "3  Winter weekenders: 21 Australian festivals wor...   \n",
       "4  ‘A meditative practice’: the Australian Sand S...   \n",
       "5  Away with Sofia Levin: ‘I tried raw pig’s bloo...   \n",
       "6  Sierra and Josh Kerr: father-daughter duo who ...   \n",
       "7  New renovations, retro vibes: reviving Austral...   \n",
       "8  Morning Mail: Trump threatens more China tarif...   \n",
       "9  Latham ordered to pay independent MP’s legal c...   \n",
       "\n",
       "                                               tfidf  nmf  \n",
       "0  [kids, photograph, offers, water, chance, retu...  NaN  \n",
       "1  [bells, nichols, wsl, surfing, robinson, final...  NaN  \n",
       "2  [bells, surfing, wsl, ewing, season, win, year...  NaN  \n",
       "3  [festival, sunday, arts, talks, lineup, music,...  NaN  \n",
       "4  [sand, said, competitors, artists, year, compe...  NaN  \n",
       "5  [food, person, good, including, travel, fresh,...  NaN  \n",
       "6  [sierra, surfing, josh, kerr, says, wsl, fathe...  NaN  \n",
       "7  [sea, hotel, says, berry, south, new, sign, mo...  NaN  \n",
       "8  [trump, tariffs, education, war, minister, gov...  NaN  \n",
       "9  [dutton, updated, minister, sydney, tariffs, t...  NaN  "
      ]
     },
     "execution_count": 31,
     "metadata": {},
     "output_type": "execute_result"
    }
   ],
   "source": [
    "for idx in terms_df.index:\n",
    "    tfidf = dict(tfidf_df.loc[idx].sort_values(ascending=False).head(10))\n",
    "    #print(counts)\n",
    "    terms_df.at[idx,'tfidf'] = list(tfidf.keys()) \n",
    "terms_df"
   ]
  },
  {
   "cell_type": "markdown",
   "id": "4a54d00a-f426-4f1d-bce7-ffa89bc9183b",
   "metadata": {},
   "source": [
    "It appears that Article 1, 2 and 6 may be about similar topic related to *surfing* and *wsl* (This may be the abbreviation of World Surf League). Article 0 seems to focus on *kids*, *photograph* and *offers*. Article 3 appears to be related to *festival*, *sunday* and *art*. Article 4 frequently mentions *sand*, *competitors* and *artists*. Article 5 mentions *food*, *travel* and *fresh*, possibly indicating food while traveling. Article 7 talks about *hotel*. Article 8 focuses *Trump* and *tariffs*, suggesting it may cover political issue in the US. Finally, article 9 mentions *Dutton* and *tariffs*, which strongly suggests it addresses a political issue in Australia.\n",
    "\n",
    "The results show that in this particular month (April 2025), a surfing event is taking place and attracting significant media attention. This presents a great opportunity for our stakeholder, Flight Centre, to post related content on its social media channels, as many people are likely paying attention to surfing and engaging with surfing-related content at the moment.\n",
    "\n",
    "However, it is important to conduct an in-depth review of the actual articles to fully understand their tone, as the TF-IDF key terms alone do not capture this dimension of the news content. The terms extracted using the TF-IDF algorithm merely highlight the most statistically significant words. The algorithm does not \"read\" or comprehend the articles in a human sense.\n",
    "\n",
    "Relying solely on this interpretation risks overlooking the ethical considerations of data representation and neglecting the nuanced tone that human writers convey. This can lead to misinformed decisions. For example, if an article focuses on a negative incident that occurred during the surfing event and we fail to detect this context, a well-intended social media post could unintentionally trigger public backlash."
   ]
  },
  {
   "cell_type": "code",
   "execution_count": 33,
   "id": "6fbfde60-fefc-4f07-84d1-cb88dac96c22",
   "metadata": {},
   "outputs": [
    {
     "name": "stdout",
     "output_type": "stream",
     "text": [
      "[1] ‘Best day of my life’, ‘surreal and special’: Australian victories at Bells Beach mean more to local surfers | Kieran Pender [2025-04-28T02:37:27Z]\n",
      "\t>> TFIDF:\t ['bells', 'nichols', 'wsl', 'surfing', 'robinson', 'finals', 'ewing', 'bell', 'beach', 'australian']\n",
      "\n",
      "[3] Winter weekenders: 21 Australian festivals worth travelling for from May to August 2025 [2025-04-24T15:00:08Z]\n",
      "\t>> TFIDF:\t ['festival', 'sunday', 'arts', 'talks', 'lineup', 'music', 'free', 'art', 'events', 'june']\n",
      "\n",
      "[2] Australia’s women’s surfers lead local charge before bell tolls on WSL season | Kieran Pender [2025-04-17T15:00:43Z]\n",
      "\t>> TFIDF:\t ['bells', 'surfing', 'wsl', 'ewing', 'season', 'win', 'year', 'begin', 'bell', 'finals']\n",
      "\n",
      "[7] New renovations, retro vibes: reviving Australia’s rundown motels [2025-04-26T00:00:48Z]\n",
      "\t>> TFIDF:\t ['sea', 'hotel', 'says', 'berry', 'south', 'new', 'sign', 'molly', 'pool', 'want']\n",
      "\n",
      "[5] Away with Sofia Levin: ‘I tried raw pig’s blood soup. If it’s good enough for Bourdain, it’s good enough for me’ [2025-04-27T15:00:39Z]\n",
      "\t>> TFIDF:\t ['food', 'person', 'good', 'including', 'travel', 'fresh', 'visit', 'wrong', 'travelling', 'buffet']\n",
      "\n"
     ]
    }
   ],
   "source": [
    "# Sample 5 random articles\n",
    "samples = random.sample(range(0,len(terms_df)),5)\n",
    "\n",
    "for sample in samples:\n",
    "    doc = terms_df.iloc[sample]\n",
    "    print(f\"[{sample}] {doc['title']}\")\n",
    "    print(\"\\t>> TFIDF:\\t\",doc['tfidf'])\n",
    "    print()"
   ]
  },
  {
   "cell_type": "markdown",
   "id": "0bfd9e3f-d554-4dff-9db7-eeab04d0789b",
   "metadata": {},
   "source": [
    "When dealing with a large number of articles, it is often impractical to review all of them through the TF-IDF matrix. Therefore, we typically sample five articles at random and examine their TF-IDF key terms to gain a representative overview.\n",
    "\n",
    "To ensure meaningful insights from our term frequency analysis, it's important to sample articles randomly rather than relying solely on the top or bottom few. This is because major events often dominate headlines over a given week or month. If we only analyse a limited set of highly ranked articles, the content is likely to be repetitive and focused on a single issue. This skews the results and limits our ability to understand the data we extracted.\n",
    "\n",
    "In the case of this report, since we only extracted 10 articles, random sampling was not necessary."
   ]
  },
  {
   "cell_type": "markdown",
   "id": "a4469050-74ff-4061-8adf-4e600f479786",
   "metadata": {},
   "source": [
    "### New Advance Technique\n",
    "\n",
    "#### Topic modelling with Non-negative Matrix Factorisation (NMF)\n",
    "\n",
    "There are many different topic modelling techniques, such as Latent Dirichlet Allocation (LDA) and NMF.\n",
    "\n",
    "After conducting preliminary research, I chose to use NMF to analyse the data extracted from  *The Guardian*. According to this [study](https://www.datascience-in-tourism.com/?p=550#:~:text=Since%20the%20number%20of%20topics,group%20of%20linear%2Dalgebraic%20algorithms.), NMF models often outperform LDA because they are more aligned with human intepretation. This makes NMF a more suitable option for identifying meaningful themes that can inform the development of our marketing campaign.\n",
    "\n",
    "NMF is an algorithm for obtaining *topics* (a list of terms) from a document-term matrix.\n",
    "\n",
    "This [website](https://medium.com/@vlad.andreichuk/non-negative-matrix-factorization-nmf-for-the-grouping-of-articles-titles-a73e654b6244) shows step by step how we can use Coherence Score to fine tune NMF model. I also use ChatGPT and some other internet source to apply the run the code successfully as intended.\n",
    "\n",
    "After testing various parameters combinations, I observed that the model achieves its highest coherence score of 0.3217 when the number of topics is 10 or more. To avoid overfitting, I set the parameter *n_components* to 10. When *max_iterations* was set below 40, there is a convergence warning so I decided to set the *max_iter = 40*. To maintain the consistency across runs and ensure faird parameters testing, I set *random_state* to 99. All other parameters were kept at their default values."
   ]
  },
  {
   "cell_type": "code",
   "execution_count": 36,
   "id": "b69c7d17-931f-4b3d-aa7f-ee40fd3c5d4c",
   "metadata": {},
   "outputs": [],
   "source": [
    "import nltk\n",
    "from nltk.tokenize import word_tokenize\n",
    "from gensim.models.coherencemodel import CoherenceModel\n",
    "from gensim import corpora\n",
    "\n",
    "num_topics = 10\n",
    "max_iterations = 40\n",
    "random_state = 99\n",
    "\n",
    "#Create model\n",
    "nmf_model = NMF(n_components = num_topics, init = 'random', beta_loss = 'frobenius')"
   ]
  },
  {
   "cell_type": "code",
   "execution_count": 37,
   "id": "ef2c6fcc-d104-43df-98ec-291b0a922529",
   "metadata": {},
   "outputs": [],
   "source": [
    "# Fit the model to the data and use it to transform the data\n",
    "doc_topic_nmf = nmf_model.fit_transform(tfidf_dt_matrix)\n",
    "\n",
    "topic_term_nmf = nmf_model.components_"
   ]
  },
  {
   "cell_type": "code",
   "execution_count": 38,
   "id": "434c0162-d880-40fd-9cf7-104ef54741bc",
   "metadata": {},
   "outputs": [
    {
     "name": "stdout",
     "output_type": "stream",
     "text": [
      "topic_0\n",
      "{'trump': 1.5843, 'tariffs': 1.1882, 'education': 0.693, 'students': 0.5941, 'war': 0.5941, 'higher': 0.5941, 'news': 0.5941, 'plans': 0.5941, 'government': 0.5941, 'minister': 0.5941}\n",
      "\n",
      "topic_1\n",
      "{'kids': 1.3501, 'photograph': 0.6001, 'offers': 0.525, 'water': 0.525, 'chance': 0.4667, 'returns': 0.45, 'stage': 0.3937, 'things': 0.3501, 'sea': 0.3501, 'day': 0.3441}\n",
      "\n",
      "topic_2\n",
      "{'bells': 1.4113, 'surfing': 0.7857, 'wsl': 0.6735, 'ewing': 0.6415, 'season': 0.5988, 'win': 0.5988, 'year': 0.536, 'bell': 0.5132, 'finals': 0.5132, 'begin': 0.5132}\n",
      "\n",
      "topic_3\n",
      "{'festival': 2.6095, 'sunday': 0.9132, 'arts': 0.7828, 'talks': 0.7176, 'lineup': 0.6524, 'music': 0.638, 'june': 0.6278, 'events': 0.6278, 'art': 0.6278, 'free': 0.6278}\n",
      "\n",
      "topic_4\n",
      "{'sea': 1.1161, 'hotel': 0.4828, 'says': 0.4626, 'berry': 0.4415, 'new': 0.4182, 'south': 0.4182, 'sign': 0.3863, 'molly': 0.3434, 'want': 0.3434, 'pool': 0.3434}\n",
      "\n",
      "topic_5\n",
      "{'food': 1.9823, 'person': 1.2743, 'good': 1.2178, 'fresh': 1.1148, 'including': 1.1148, 'travel': 1.1148, 'visit': 0.9912, 'buffet': 0.8495, 'holiday': 0.8495, 'travelling': 0.8495}\n",
      "\n",
      "topic_6\n",
      "{'sierra': 2.551, 'surfing': 2.1143, 'josh': 1.7619, 'kerr': 1.4769, 'says': 1.4068, 'wsl': 1.0572, 'father': 0.9398, 'want': 0.8355, 'challenger': 0.6713, 'surf': 0.6565}\n",
      "\n",
      "topic_7\n",
      "{'dutton': 2.4893, 'updated': 2.1026, 'minister': 1.6039, 'sydney': 1.5249, 'tariffs': 1.5203, 'trump': 1.2985, 'government': 1.2166, 'coalition': 1.0785, 'said': 1.0481, 'says': 0.9661}\n",
      "\n",
      "topic_8\n",
      "{'sand': 1.7488, 'said': 0.6797, 'artists': 0.5381, 'competitors': 0.5381, 'year': 0.4015, 'competition': 0.3222, 'artist': 0.3075, 'competitions': 0.3075, '2019': 0.3075, 'compared': 0.3075}\n",
      "\n",
      "topic_9\n",
      "{'bells': 1.5071, 'nichols': 0.9593, 'wsl': 0.7192, 'surfing': 0.7191, 'robinson': 0.6852, 'bell': 0.548, 'finals': 0.548, 'ewing': 0.548, 'beach': 0.5192, 'australian': 0.5008}\n",
      "\n"
     ]
    }
   ],
   "source": [
    "# Get the topics and their terms\n",
    "nmf_topic_dict = {}\n",
    "for index, topic in enumerate(topic_term_nmf):\n",
    "    zipped = zip(feature_names, topic)\n",
    "    top_terms=dict(sorted(zipped, key = lambda t: t[1], reverse=True)[:10])\n",
    "    #print(top_terms)\n",
    "    top_terms_list= {key : round(top_terms[key], 4) for key in top_terms.keys()}\n",
    "    nmf_topic_dict[f\"topic_{index}\"] = top_terms_list\n",
    "\n",
    "# Print the topics with their terms    \n",
    "for k,v in nmf_topic_dict.items():\n",
    "    print(k)\n",
    "    print(v)\n",
    "    print()"
   ]
  },
  {
   "cell_type": "code",
   "execution_count": 39,
   "id": "bd6a1eec-ecf0-4421-b0b8-efa0a83b0e43",
   "metadata": {},
   "outputs": [
    {
     "name": "stdout",
     "output_type": "stream",
     "text": [
      "NMF Coherence Score: 0.3217241451215859\n"
     ]
    }
   ],
   "source": [
    "tokenized_docs = [word_tokenize(doc.lower()) for doc in documents]\n",
    "\n",
    "dictionary = corpora.Dictionary(tokenized_docs)\n",
    "corpus = [dictionary.doc2bow(word_tokenize) for word_tokenize in tokenized_docs]\n",
    "\n",
    "coherence_model_nmf = CoherenceModel(\n",
    "    topics=nmf_topic_dict,\n",
    "    texts=tokenized_docs,\n",
    "    dictionary=dictionary,\n",
    "    coherence='c_v'  # I used c_v because it is most commonly used and conbines several techniques for better human-aligned coherence.\n",
    ")\n",
    "\n",
    "coherence_score = coherence_model_nmf.get_coherence()\n",
    "print(\"NMF Coherence Score:\", coherence_score)"
   ]
  },
  {
   "cell_type": "markdown",
   "id": "6c4831c2-e6cd-429a-8836-24c41c29a84e",
   "metadata": {},
   "source": [
    "According to this [website](https://stackoverflow.com/questions/51262950/visualization-for-output-of-topic-modelling), LDA visualisation can also apply on NMF model. [IBM Developer](https://developer.ibm.com/tutorials/awb-lda-topic-modeling-text-analysis-python/) suggested codes for visualisation of LDA model. However, the provided code did not work as expected. I conducted further research, using ChatGPT and other online sources to develop the version below that runs as intended."
   ]
  },
  {
   "cell_type": "code",
   "execution_count": 41,
   "id": "2d1c1b3e-90a9-4a0c-9977-cec8f0819d3a",
   "metadata": {},
   "outputs": [
    {
     "name": "stderr",
     "output_type": "stream",
     "text": [
      "/Applications/anaconda3/lib/python3.12/site-packages/pandas/core/internals/blocks.py:393: RuntimeWarning: divide by zero encountered in log\n",
      "  result = func(self.values, **kwargs)\n",
      "/Applications/anaconda3/lib/python3.12/site-packages/pandas/core/internals/blocks.py:393: RuntimeWarning: divide by zero encountered in log\n",
      "  result = func(self.values, **kwargs)\n",
      "/Applications/anaconda3/lib/python3.12/site-packages/pandas/core/internals/blocks.py:393: RuntimeWarning: divide by zero encountered in log\n",
      "  result = func(self.values, **kwargs)\n",
      "/Applications/anaconda3/lib/python3.12/site-packages/joblib/externals/loky/backend/fork_exec.py:38: DeprecationWarning: This process (pid=18419) is multi-threaded, use of fork() may lead to deadlocks in the child.\n",
      "  pid = os.fork()\n",
      "/Applications/anaconda3/lib/python3.12/site-packages/joblib/externals/loky/backend/fork_exec.py:38: DeprecationWarning: This process (pid=18419) is multi-threaded, use of fork() may lead to deadlocks in the child.\n",
      "  pid = os.fork()\n",
      "/Applications/anaconda3/lib/python3.12/site-packages/joblib/externals/loky/backend/fork_exec.py:38: DeprecationWarning: This process (pid=18419) is multi-threaded, use of fork() may lead to deadlocks in the child.\n",
      "  pid = os.fork()\n",
      "/Applications/anaconda3/lib/python3.12/site-packages/joblib/externals/loky/backend/fork_exec.py:38: DeprecationWarning: This process (pid=18419) is multi-threaded, use of fork() may lead to deadlocks in the child.\n",
      "  pid = os.fork()\n",
      "/Applications/anaconda3/lib/python3.12/site-packages/joblib/externals/loky/backend/fork_exec.py:38: DeprecationWarning: This process (pid=18419) is multi-threaded, use of fork() may lead to deadlocks in the child.\n",
      "  pid = os.fork()\n",
      "/Applications/anaconda3/lib/python3.12/site-packages/joblib/externals/loky/backend/fork_exec.py:38: DeprecationWarning: This process (pid=18419) is multi-threaded, use of fork() may lead to deadlocks in the child.\n",
      "  pid = os.fork()\n",
      "/Applications/anaconda3/lib/python3.12/site-packages/joblib/externals/loky/backend/fork_exec.py:38: DeprecationWarning: This process (pid=18419) is multi-threaded, use of fork() may lead to deadlocks in the child.\n",
      "  pid = os.fork()\n",
      "/Applications/anaconda3/lib/python3.12/site-packages/joblib/externals/loky/backend/fork_exec.py:38: DeprecationWarning: This process (pid=18419) is multi-threaded, use of fork() may lead to deadlocks in the child.\n",
      "  pid = os.fork()\n",
      "/Applications/anaconda3/lib/python3.12/site-packages/joblib/externals/loky/backend/fork_exec.py:38: DeprecationWarning: This process (pid=18419) is multi-threaded, use of fork() may lead to deadlocks in the child.\n",
      "  pid = os.fork()\n"
     ]
    },
    {
     "data": {
      "text/html": [
       "\n",
       "<link rel=\"stylesheet\" type=\"text/css\" href=\"https://cdn.jsdelivr.net/gh/bmabey/pyLDAvis@3.4.0/pyLDAvis/js/ldavis.v1.0.0.css\">\n",
       "\n",
       "\n",
       "<div id=\"ldavis_el1841943945790247920489384\" style=\"background-color:white;\"></div>\n",
       "<script type=\"text/javascript\">\n",
       "\n",
       "var ldavis_el1841943945790247920489384_data = {\"mdsDat\": {\"x\": [-0.07770638004986442, -0.09729553417498868, -0.14519915418114895, -0.17722698164287093, 0.3252446660200709, 0.3121797113829155, -0.1262876296682204, -0.15830467187599298, 0.15399285505582844, -0.00939688086572926], \"y\": [-0.358573594531936, -0.2273495998167258, 0.06694236918818089, 0.10161687549783531, 0.018442696332765046, 0.019134183603209773, 0.023102630531620236, 0.21010146895181606, 0.02037472831320059, 0.1262082419300345], \"topics\": [1, 2, 3, 4, 5, 6, 7, 8, 9, 10], \"cluster\": [1, 1, 1, 1, 1, 1, 1, 1, 1, 1], \"Freq\": [12.40528740415463, 12.132100087251029, 11.270579526572986, 10.187307515212119, 10.0055306293474, 9.897913544897612, 9.185539238465811, 8.940264363630519, 8.5616459988417, 7.413831691626199]}, \"tinfo\": {\"Term\": [\"sand\", \"festival\", \"bells\", \"kids\", \"sierra\", \"surfing\", \"sea\", \"dutton\", \"trump\", \"josh\", \"wsl\", \"tariffs\", \"food\", \"kerr\", \"says\", \"updated\", \"nichols\", \"said\", \"ewing\", \"minister\", \"photograph\", \"sunday\", \"artists\", \"finals\", \"bell\", \"competitors\", \"arts\", \"government\", \"chance\", \"person\", \"students\", \"war\", \"anti\", \"politics\", \"threatened\", \"200\", \"abuse\", \"additional\", \"aged\", \"applied\", \"au\", \"begun\", \"bench\", \"bodies\", \"cause\", \"choose\", \"depth\", \"discussed\", \"does\", \"evidence\", \"financial\", \"follows\", \"gave\", \"medical\", \"multiple\", \"murder\", \"needs\", \"popular\", \"powerful\", \"receive\", \"stock\", \"higher\", \"benjamin\", \"nuclear\", \"news\", \"follow\", \"huge\", \"education\", \"trump\", \"china\", \"meeting\", \"finish\", \"rugby\", \"plans\", \"israeli\", \"netanyahu\", \"federal\", \"hearing\", \"reports\", \"tariffs\", \"opposition\", \"body\", \"president\", \"threat\", \"series\", \"government\", \"minister\", \"sign\", \"peter\", \"dutton\", \"cut\", \"updated\", \"12\", \"energy\", \"sydney\", \"labor\", \"dutton\", \"look\", \"asked\", \"major\", \"anthony\", \"coalition\", \"minister\", \"seat\", \"prime\", \"tariff\", \"class\", \"gina\", \"small\", \"western\", \"11\", \"government\", \"party\", \"migration\", \"election\", \"farmers\", \"previous\", \"health\", \"independent\", \"going\", \"economy\", \"nsw\", \"global\", \"tariffs\", \"members\", \"peter\", \"trump\", \"trade\", \"said\", \"make\", \"people\", \"says\", \"donald\", \"cost\", \"australian\", \"restaurant\", \"opened\", \"berry\", \"60\", \"baked\", \"club\", \"coffee\", \"double\", \"green\", \"leads\", \"loads\", \"near\", \"provides\", \"rattled\", \"renovating\", \"reverse\", \"runs\", \"sunshine\", \"tend\", \"turn\", \"uncertain\", \"kind\", \"booking\", \"byron\", \"curated\", \"reads\", \"achieved\", \"aren\", \"families\", \"mean\", \"road\", \"sea\", \"hotel\", \"molly\", \"sign\", \"promising\", \"read\", \"south\", \"breakfast\", \"bay\", \"town\", \"room\", \"new\", \"unlike\", \"pool\", \"giving\", \"gets\", \"head\", \"blue\", \"couple\", \"locals\", \"store\", \"says\", \"want\", \"like\", \"night\", \"surf\", \"wrong\", \"excellent\", \"japan\", \"order\", \"particular\", \"person\", \"pocket\", \"realised\", \"responsible\", \"simple\", \"spending\", \"strategic\", \"surface\", \"terrible\", \"thailand\", \"tiny\", \"visited\", \"willing\", \"buffet\", \"covered\", \"ensure\", \"flow\", \"non\", \"possible\", \"research\", \"rolls\", \"seek\", \"selling\", \"served\", \"slightly\", \"fresh\", \"travel\", \"food\", \"holiday\", \"travelling\", \"island\", \"visit\", \"including\", \"away\", \"good\", \"makes\", \"locals\", \"think\", \"place\", \"called\", \"way\", \"ll\", \"week\", \"beach\", \"10\", \"30pm\", \"able\", \"absolutely\", \"anthony\", \"believe\", \"blood\", \"begin\", \"consistent\", \"hoping\", \"line\", \"reached\", \"32\", \"dream\", \"exciting\", \"honour\", \"lines\", \"overall\", \"placed\", \"struggling\", \"underway\", \"looked\", \"disappointing\", \"expectations\", \"leaving\", \"mum\", \"progress\", \"rail\", \"serve\", \"trophy\", \"win\", \"el\", \"salvador\", \"begins\", \"lambert\", \"outing\", \"joined\", \"fitzgibbons\", \"picklum\", \"bells\", \"ewing\", \"wright\", \"season\", \"margaret\", \"bell\", \"finals\", \"winning\", \"pro\", \"date\", \"wsl\", \"run\", \"river\", \"quarter\", \"surfing\", \"champion\", \"women\", \"year\", \"australian\", \"cut\", \"event\", \"final\", \"surf\", \"edition\", \"isabella\", \"antarctica\", \"fired\", \"heads\", \"host\", \"minutes\", \"morgan\", \"moved\", \"moves\", \"regular\", \"remaining\", \"respectively\", \"similarly\", \"steep\", \"unique\", \"previously\", \"robinson\", \"meant\", \"quality\", \"reminder\", \"went\", \"nichols\", \"sporting\", \"amid\", \"banks\", \"currently\", \"dual\", \"large\", \"missed\", \"victory\", \"moment\", \"wedding\", \"bells\", \"bell\", \"finals\", \"seen\", \"having\", \"ewing\", \"pro\", \"best\", \"men\", \"wsl\", \"end\", \"final\", \"beach\", \"competitive\", \"surfing\", \"edition\", \"isabella\", \"surfer\", \"wave\", \"season\", \"won\", \"australian\", \"event\", \"wright\", \"year\", \"said\", \"territory\", \"festival\", \"northern\", \"worth\", \"august\", \"july\", \"attend\", \"broad\", \"encouraged\", \"evening\", \"gallery\", \"highlights\", \"hobart\", \"massive\", \"sold\", \"writers\", \"talks\", \"expect\", \"june\", \"lineup\", \"14\", \"2024\", \"31\", \"600\", \"augusta\", \"cafe\", \"covering\", \"design\", \"fees\", \"followed\", \"takes\", \"arts\", \"hands\", \"art\", \"free\", \"sunday\", \"fair\", \"tasmania\", \"visual\", \"events\", \"announced\", \"features\", \"music\", \"include\", \"region\", \"20\", \"queensland\", \"market\", \"stalls\", \"program\", \"friday\", \"including\", \"food\", \"south\", \"night\", \"weekend\", \"year\", \"event\", \"saturday\", \"returns\", \"kids\", \"catch\", \"tank\", \"experts\", \"hits\", \"movie\", \"penny\", \"types\", \"vessels\", \"yes\", \"zone\", \"offers\", \"500\", \"answer\", \"arrive\", \"blow\", \"minds\", \"mr\", \"option\", \"quite\", \"step\", \"views\", \"photograph\", \"extend\", \"questions\", \"water\", \"brett\", \"costumes\", \"experiences\", \"stage\", \"things\", \"chance\", \"trip\", \"main\", \"fishing\", \"latest\", \"home\", \"sure\", \"day\", \"family\", \"stop\", \"sea\", \"event\", \"little\", \"friendly\", \"room\", \"pool\", \"love\", \"music\", \"pretty\", \"sierra\", \"pushing\", \"josh\", \"kerr\", \"barriers\", \"basically\", \"certain\", \"changing\", \"closest\", \"consecutive\", \"conversation\", \"decade\", \"direction\", \"dynamic\", \"enjoyed\", \"forge\", \"fraught\", \"grown\", \"honestly\", \"keeps\", \"newcastle\", \"normal\", \"pathway\", \"prospect\", \"recently\", \"slight\", \"television\", \"turned\", \"visits\", \"senior\", \"father\", \"sport\", \"friends\", \"17\", \"challenger\", \"american\", \"surfing\", \"partner\", \"generation\", \"says\", \"want\", \"surfers\", \"wsl\", \"surf\", \"great\", \"waves\", \"trip\", \"series\", \"career\", \"high\", \"child\", \"lifestyle\", \"alongside\", \"certainly\", \"female\", \"years\", \"year\", \"know\", \"2019\", \"compared\", \"easier\", \"bad\", \"block\", \"calling\", \"importantly\", \"japanese\", \"looking\", \"panel\", \"prior\", \"rest\", \"taxing\", \"sand\", \"ask\", \"awarded\", \"murray\", \"responded\", \"competitions\", \"35\", \"overseas\", \"standard\", \"competitors\", \"artist\", \"complete\", \"familiar\", \"movies\", \"incredible\", \"recognise\", \"wasn\", \"artists\", \"theme\", \"used\", \"said\", \"competition\", \"try\", \"year\", \"visitors\", \"10\", \"like\", \"people\", \"chance\", \"event\", \"won\", \"beach\", \"little\", \"australian\", \"brooks\", \"competed\"], \"Freq\": [0.0, 0.0, 0.0, 0.0, 0.0, 0.0, 0.0, 0.0, 0.0, 0.0, 0.0, 0.0, 0.0, 0.0, 0.0, 0.0, 0.0, 0.0, 0.0, 0.0, 0.0, 0.0, 0.0, 0.0, 0.0, 0.0, 0.0, 0.0, 0.0, 0.0, 0.12870369515566998, 0.12870369515566998, 0.08580246317852744, 0.08580246317852744, 0.08580246317852744, 0.04290123120138493, 0.04290123120138493, 0.04290123120138493, 0.04290123120138493, 0.04290123120138493, 0.04290123120138493, 0.04290123120138493, 0.04290123120138493, 0.04290123120138493, 0.04290123120138493, 0.04290123120138493, 0.04290123120138493, 0.04290123120138493, 0.04290123120138493, 0.04290123120138493, 0.04290123120138493, 0.04290123120138493, 0.04290123120138493, 0.04290123120138493, 0.04290123120138493, 0.04290123120138493, 0.04290123120138493, 0.04290123120138493, 0.04290123120138493, 0.04290123120138493, 0.08580246240276986, 0.12870369205263954, 0.08580246162701223, 0.08580246162701223, 0.12870369127688194, 0.0858024012062514, 0.0858024012062514, 0.15013402776750623, 0.3432098193565327, 0.08580246007549702, 0.08580246007549702, 0.0858024012062514, 0.0858024012062514, 0.12870368584657868, 0.08580245929973941, 0.08580245929973941, 0.0858024585239818, 0.0858024585239818, 0.0858024585239818, 0.25740734919618674, 0.085802456196709, 0.11260043864965107, 0.08580245464519376, 0.0750670162858269, 0.11987250785933343, 0.12870366179809287, 0.12870365093748634, 0.11260044306115724, 0.11260050233115718, 0.1287036261132429, 0.10010992657943756, 0.32296461897995804, 0.08499068920525209, 0.07224208582446427, 0.2342239513660978, 0.14020060862025188, 0.3823560157128534, 0.04674487906288865, 0.09773929258603986, 0.038245810142363446, 0.14023463718866597, 0.16566378679679702, 0.24637091296475658, 0.04674487906288865, 0.13591704557065087, 0.06795852278532544, 0.025497206761575634, 0.025497206761575634, 0.05099441352315127, 0.1424859099849075, 0.09294601244686417, 0.1868774305124642, 0.07063896945961681, 0.05945945386356938, 0.11466937326626073, 0.021247672301313022, 0.021247672301313022, 0.06320328846386761, 0.05520991940269136, 0.08074115474498951, 0.05096038494181334, 0.07804487947259736, 0.05096038494181334, 0.23352022381595358, 0.05096038494181334, 0.12631726396381535, 0.19945589095148342, 0.0854507894753479, 0.16099188081292087, 0.08012464832826598, 0.10246822523241714, 0.14839922711839643, 0.06792449419660246, 0.06692112896174224, 0.07317543521400315, 0.08488981643805539, 0.1273347246570831, 0.16977963287611078, 0.042444908219027695, 0.042444908219027695, 0.042444908219027695, 0.042444908219027695, 0.042444908219027695, 0.042444908219027695, 0.042444908219027695, 0.042444908219027695, 0.08488981643805539, 0.042444908219027695, 0.042444908219027695, 0.042444908219027695, 0.042444908219027695, 0.042444908219027695, 0.042444908219027695, 0.042444908219027695, 0.042444908219027695, 0.042444908219027695, 0.08488981643805539, 0.08488981643805539, 0.08488981643805539, 0.08488981643805539, 0.08488981643805539, 0.042444908219027695, 0.042444908219027695, 0.08488981643805539, 0.042444908219027695, 0.07426855820602932, 0.4291954567998797, 0.18567139551341985, 0.1320601405537736, 0.14853711641205863, 0.08488981643805539, 0.08488981643805539, 0.16082241917510312, 0.09904510541535687, 0.08488981643805539, 0.09904510541535687, 0.13206014055233917, 0.16082241917511492, 0.08488981643805539, 0.13206014055233917, 0.09904510541535687, 0.07426855820601302, 0.07426855820601302, 0.08488981643616549, 0.08488981643616549, 0.11140283730573708, 0.08488981643616549, 0.17789620652981675, 0.13206014055364065, 0.12169369319609728, 0.09904510541535687, 0.08894810326555191, 0.13401121294527946, 0.06700560647263973, 0.06700560647263973, 0.06700560647263973, 0.06700560647263973, 0.20101681941791913, 0.06700560647263973, 0.06700560647263973, 0.06700560647263973, 0.06700560647263973, 0.06700560647263973, 0.06700560647263973, 0.06700560647263973, 0.06700560647263973, 0.06700560647263973, 0.06700560647263973, 0.13401121294527946, 0.06700560647263973, 0.13401121294527946, 0.06700560647263973, 0.06700560647263973, 0.06700560647263973, 0.06700560647263973, 0.06700560647263973, 0.06700560647263973, 0.06700560647263973, 0.06700560647263973, 0.06700560647263973, 0.06700560647263973, 0.06700560647263973, 0.17586596343066146, 0.1758659634306614, 0.31271488783794316, 0.13401121294527946, 0.13401121294527946, 0.11724397562044096, 0.15635744391897158, 0.17586596343066146, 0.11724397562044096, 0.19211161146641006, 0.11724397562044096, 0.11724397562044096, 0.10423829594598102, 0.104969682303546, 0.09361188191140248, 0.08462737686240589, 0.08462737686240587, 0.08462737686240587, 0.08462737686240589, 0.07684464458656398, 0.06700560647263973, 0.06700560647263973, 0.06700560647263973, 0.06700560647263973, 0.06700560647263973, 0.06700560647263973, 0.15169575041118188, 0.07584787520559094, 0.07584787520559094, 0.07584787520559094, 0.07584787520559094, 0.03792393760193986, 0.03792393760193986, 0.03792393760193986, 0.03792393760193986, 0.03792393760193986, 0.07584787520387971, 0.03792393760193986, 0.03792393760193986, 0.03792393760193986, 0.0758478752021685, 0.03792393760022862, 0.03792393760022862, 0.03792393760022862, 0.03792393760022862, 0.03792393760022862, 0.03792393760022862, 0.03792393760022862, 0.11377183734414119, 0.17699085850213322, 0.13271588410594154, 0.13271588410594154, 0.0758478750059004, 0.0379239375029502, 0.0379239375029502, 0.06635792694453696, 0.07584789104636457, 0.13271588275058444, 0.4171633922344668, 0.18961972529212826, 0.11377183579495245, 0.17699089529830497, 0.0995369135962972, 0.15169577899435163, 0.15169577899435163, 0.09953691357451405, 0.13271588003987025, 0.08849544893123572, 0.19907381150300235, 0.06635792799289371, 0.08849544885416205, 0.06635794194732862, 0.23225277288539006, 0.09953690995912594, 0.10596521890821683, 0.15842910731093096, 0.1386254685576059, 0.08849544852510877, 0.08698531602244604, 0.07947391126511258, 0.07947390788733714, 0.07584788949717582, 0.07584788949717582, 0.039693426734883616, 0.039693426734883616, 0.039693426734883616, 0.039693426734883616, 0.039693426734883616, 0.039693426734883616, 0.039693426734883616, 0.039693426734883616, 0.039693426734883616, 0.039693426734883616, 0.039693426734883616, 0.039693426734883616, 0.039693426734883616, 0.039693426734883616, 0.07938685346976723, 0.19845139874338416, 0.039693426734883616, 0.039693426734883616, 0.039693426734883616, 0.039693426734883616, 0.27782251728018903, 0.07938685346976726, 0.0396934267348836, 0.0396934267348836, 0.0396934267348836, 0.0396934267348836, 0.0396934267348836, 0.0396934267348836, 0.11908028020465124, 0.0793868534697672, 0.07937111853680492, 0.43645460981406403, 0.15871076720511412, 0.15871076720511412, 0.06945411587755329, 0.12349937209479345, 0.15869503227086626, 0.13885316692536354, 0.12530114256079858, 0.10415364140178895, 0.20827975039159558, 0.06944034967056274, 0.1108763990368536, 0.1503771905556653, 0.0694541158775533, 0.20826598418773942, 0.07935538360255706, 0.07935538360255706, 0.07935538360255706, 0.07935538360255706, 0.12342593722390416, 0.10024480969791832, 0.1450359720126072, 0.13652971436364242, 0.07933964866830921, 0.08284470564518835, 0.07518835839259165, 0.06451021294346944, 0.6451021246305034, 0.04838265970760207, 0.04838265970760207, 0.12902042588693888, 0.08063776617933678, 0.03225510647173472, 0.03225510647173472, 0.03225510647173472, 0.03225510647173472, 0.03225510647173472, 0.03225510647173472, 0.03225510647173472, 0.03225510647173472, 0.03225510647173472, 0.03225510647173472, 0.17740308559454088, 0.04838265970760207, 0.15520673669993834, 0.16127553231608022, 0.01612755323586736, 0.01612755323586736, 0.01612755323586736, 0.01612755323586736, 0.01612755323586736, 0.01612755323586736, 0.01612755323586736, 0.01612755323586736, 0.01612755323586736, 0.01612755323586736, 0.04838265970760207, 0.19353063402621723, 0.03225510647173472, 0.1552067365812304, 0.15520673249683886, 0.22575525338172855, 0.04838265970760207, 0.04838265970760207, 0.09676531941520414, 0.15520673662540999, 0.11287762669086428, 0.08063776617933678, 0.15771984417219434, 0.07054851247869068, 0.04838265970760207, 0.06451021294346944, 0.05643881334543214, 0.07054851668179017, 0.06451021294346944, 0.07054851668179017, 0.07054851660726179, 0.09876792335450622, 0.11290083621541543, 0.09166018610379571, 0.0752672241436103, 0.07129125280564544, 0.0926387377577664, 0.0832306722843173, 0.06272268304948526, 0.1654823923957992, 0.4964471771874051, 0.11032159493053281, 0.11032159493053281, 0.055160797465266406, 0.055160797465266406, 0.055160797465266406, 0.055160797465266406, 0.055160797465266406, 0.11032159493053281, 0.055160797465266406, 0.11032159493053281, 0.19303671837855974, 0.055160797465266406, 0.055160797465266406, 0.055160797465266406, 0.055160797465266406, 0.055160797465266406, 0.11032159493053281, 0.055160797465266406, 0.055160797465266406, 0.055160797465266406, 0.055160797465266406, 0.220643189839755, 0.055160797465266406, 0.055160797465266406, 0.19303671837855974, 0.05516079746526723, 0.05516079746526723, 0.05516079746526723, 0.14477753878392197, 0.12871760663315643, 0.17162347551048165, 0.11032159493053281, 0.09651835918928124, 0.09651835918927987, 0.09651835918927987, 0.09651835918927987, 0.09651835918927987, 0.12652111067888172, 0.08581173775583509, 0.08581173775583384, 0.12871760641766927, 0.12652111067800542, 0.09489083299639227, 0.08581173775583509, 0.08581173768952949, 0.08581173768952947, 0.07706379105113942, 0.07706379106602662, 0.09872939885763915, 0.4689646445737824, 0.049364699428819575, 0.32391209040318547, 0.2715058468585035, 0.024682349714409788, 0.024682349714409788, 0.024682349714409788, 0.024682349714409788, 0.024682349714409788, 0.024682349714409788, 0.024682349714409788, 0.024682349714409788, 0.024682349714409788, 0.024682349714409788, 0.024682349714409788, 0.024682349714409788, 0.024682349714409788, 0.024682349714409788, 0.024682349714409788, 0.024682349714409788, 0.024682349714409788, 0.024682349714409788, 0.024682349714409788, 0.024682349714409788, 0.024682349714409788, 0.024682349714409788, 0.024682349714409788, 0.024682349714409788, 0.024682349714409788, 0.07404704914322938, 0.17277644800086853, 0.10797069680106182, 0.09872939885763915, 0.04936469942881957, 0.12341174857203946, 0.049364699428819575, 0.388694508483791, 0.049364699428819575, 0.06478241808063297, 0.2586232699466054, 0.1535898984944425, 0.10797069680105284, 0.19434725424188393, 0.12069085930840501, 0.06478241808063709, 0.06478241808063709, 0.07404704914322938, 0.08620775664886524, 0.06478241808063709, 0.06478241808063709, 0.049364699428819575, 0.049364699428819575, 0.05759621193541495, 0.043188278720420546, 0.057596211935416496, 0.05661336390229841, 0.06444481649664772, 0.051724653989317776, 0.11138892268534453, 0.11138892268534453, 0.11138892268534453, 0.05569446134267079, 0.11138892268534158, 0.05569446134267079, 0.05569446134267079, 0.05569446134267079, 0.11138892268534158, 0.05569446134267079, 0.05569446134267079, 0.05569446134267079, 0.05569446134267079, 0.6334389415341264, 0.055694461342667846, 0.055694461342667846, 0.055694461342667846, 0.055694461342667846, 0.11138892268534749, 0.05569446134266488, 0.05569446134266488, 0.09745214485179202, 0.19490428970026974, 0.11138892268534749, 0.055694461342673744, 0.055694461342673744, 0.055694461342673744, 0.055694461342661934, 0.055694461342661934, 0.09745214485178687, 0.1949042897035892, 0.11138892268505501, 0.09745214485178687, 0.24619531797918812, 0.1167140395786528, 0.08664194012111325, 0.1454164365638816, 0.08664194012387297, 0.09580887285485756, 0.09580887284820974, 0.08664194012402926, 0.08664194012331652, 0.09580887285145241, 0.07034151942064112, 0.07034151941479663, 0.06387258189913142, 0.05816657462538207, 0.055694461342673744, 0.055694461342673744], \"Total\": [0.0, 0.0, 0.0, 0.0, 0.0, 0.0, 0.0, 0.0, 0.0, 0.0, 0.0, 0.0, 0.0, 0.0, 0.0, 0.0, 0.0, 0.0, 0.0, 0.0, 0.0, 0.0, 0.0, 0.0, 0.0, 0.0, 0.0, 0.0, 0.0, 0.0, 0.13285114385037908, 0.13285114385037908, 0.08998394046195951, 0.08998394046195951, 0.08998394046195951, 0.04711673707353998, 0.04711673707353998, 0.04711673707353998, 0.04711673707353998, 0.04711673707353998, 0.04711673707353998, 0.04711673707353998, 0.04711673707353998, 0.04711673707353998, 0.04711673707353998, 0.04711673707353998, 0.04711673707353998, 0.04711673707353998, 0.04711673707353998, 0.04711673707353998, 0.04711673707353998, 0.04711673707353998, 0.04711673707353998, 0.04711673707353998, 0.04711673707353998, 0.04711673707353998, 0.04711673707353998, 0.04711673707353998, 0.04711673707353998, 0.04711673707353998, 0.09423347414707996, 0.14984927859086072, 0.09848300783220036, 0.09848300783220036, 0.15409881227598116, 0.10192995444212434, 0.10192995444212434, 0.19758521161327944, 0.5426657103080161, 0.1069820752024412, 0.1069820752024412, 0.11048475092066676, 0.11048475092066676, 0.1838455480718241, 0.11123160888756162, 0.11123160888756162, 0.11548114257268202, 0.11548114257268202, 0.11548114257268202, 0.4909275730121403, 0.1282297436280433, 0.19846079017856985, 0.1367288109982841, 0.11190406879948803, 0.2467104739210248, 0.3155810923105571, 0.3750745639022429, 0.2752472628095813, 0.27605204539798717, 0.5110596418260964, 0.2689449349350984, 0.3390921722158254, 0.10111824244111944, 0.08836963906033163, 0.2995776371418285, 0.1831018149973934, 0.5110596418260964, 0.06287243229875601, 0.13743271932092332, 0.0543733633782308, 0.2072402436613057, 0.2514662204965354, 0.3750745639022429, 0.07142722877729843, 0.22171948470069247, 0.11085974235034624, 0.041624759997442994, 0.041624759997442994, 0.08324951999488599, 0.23760864845598006, 0.15589247705835674, 0.3155810923105571, 0.12045251549254522, 0.1023606749801054, 0.20047181627509036, 0.03737522553718038, 0.03737522553718038, 0.1120400497390022, 0.098111141294985, 0.14774676121762925, 0.09386160760986459, 0.14379778036163554, 0.09386160760986459, 0.4909275730121403, 0.09386160760986459, 0.27605204539798717, 0.5426657103080161, 0.1976520699062353, 0.5490029502376916, 0.1883976115797831, 0.3072593836048715, 0.6616927445507141, 0.15372694573876577, 0.15231458764075256, 0.5815380626687497, 0.089139350898318, 0.1358337935776083, 0.18590718611197815, 0.0466944426792903, 0.0466944426792903, 0.0466944426792903, 0.0466944426792903, 0.0466944426792903, 0.0466944426792903, 0.0466944426792903, 0.0466944426792903, 0.0933888853585806, 0.0466944426792903, 0.0466944426792903, 0.0466944426792903, 0.0466944426792903, 0.0466944426792903, 0.0466944426792903, 0.0466944426792903, 0.0466944426792903, 0.0466944426792903, 0.0976384198188432, 0.10101736967392275, 0.10101736967392275, 0.10101736967392275, 0.10101736967392275, 0.050943977139552905, 0.050943977139552905, 0.10188795427910581, 0.050943977139552905, 0.09209610204026193, 0.6137785593201361, 0.2925525628250589, 0.21161996290532867, 0.2752472628095813, 0.1277910170411839, 0.13163469550094403, 0.3478406007224354, 0.16771721434556025, 0.13327247614565746, 0.17034547184162688, 0.2732964528352598, 0.3860405798621629, 0.14058427778072913, 0.2994895026118903, 0.18857737092523247, 0.12014913763841331, 0.12014913763841331, 0.1518954229088052, 0.1518954229088052, 0.24275651626253608, 0.1518954229088052, 0.6616927445507141, 0.3950795415181594, 0.37572112498292887, 0.22418296975246782, 0.35580030820550396, 0.13826074740554206, 0.07125514093290233, 0.07125514093290233, 0.07125514093290233, 0.07125514093290233, 0.21376542279870694, 0.07125514093290233, 0.07125514093290233, 0.07125514093290233, 0.07125514093290233, 0.07125514093290233, 0.07125514093290233, 0.07125514093290233, 0.07125514093290233, 0.07125514093290233, 0.07125514093290233, 0.14251028186580467, 0.07125514093290233, 0.1501387661811468, 0.07550467539316494, 0.07550467539316494, 0.07550467539316494, 0.07550467539316494, 0.07550467539316494, 0.07550467539316494, 0.07550467539316494, 0.07550467539316494, 0.07550467539316494, 0.07550467539316494, 0.07550467539316494, 0.21671808302659035, 0.23459438188890436, 0.46193618580339124, 0.18917201041054588, 0.18917201041054588, 0.16033474428465533, 0.2507957967377739, 0.3229658132575371, 0.18037451720657918, 0.42416486477004317, 0.2138195768104108, 0.24275651626253608, 0.24235392945813936, 0.2871174519001429, 0.2010156610720827, 0.21975873584040673, 0.24925702349573192, 0.3031038001238418, 0.44971487038009106, 0.3615297944595593, 0.07975420985342754, 0.08825327877395275, 0.07975420985342754, 0.2072402436613057, 0.07975420985342754, 0.12270006781515733, 0.16019386035992278, 0.08009693017996139, 0.08009693017996139, 0.08009693017996139, 0.08009693017996139, 0.04217323231925639, 0.04217323231925639, 0.04217323231925639, 0.04217323231925639, 0.04217323231925639, 0.08434646463851278, 0.04217323231925639, 0.04217323231925639, 0.04217323231925639, 0.08859599909706417, 0.04642276677780777, 0.04642276677780777, 0.04642276677780777, 0.04642276677780777, 0.04642276677780777, 0.04642276677780777, 0.04642276677780777, 0.15341805929021207, 0.2516130515279782, 0.1889820165902034, 0.1889820165902034, 0.10810298139244837, 0.05405149069622418, 0.05405149069622418, 0.0953873278070009, 0.11550984792085824, 0.2237090731705221, 0.8536180020665479, 0.3483147575753712, 0.19311148447236257, 0.3585209421905148, 0.17135695202591064, 0.3104065462060174, 0.3104065462060174, 0.1824818524955222, 0.2931631863311595, 0.1622643300891372, 0.6017008161450798, 0.10277425474847515, 0.16489314684856615, 0.10477488848125131, 0.8292132655706146, 0.21213800594277435, 0.2527931100736527, 0.68850865066276, 0.5815380626687497, 0.2689449349350984, 0.5914965420418921, 0.25540141893245527, 0.35580030820550396, 0.1552032731030087, 0.1552032731030087, 0.04394296119514615, 0.04394296119514615, 0.04394296119514615, 0.04394296119514615, 0.04394296119514615, 0.04394296119514615, 0.04394296119514615, 0.04394296119514615, 0.04394296119514615, 0.04394296119514615, 0.04394296119514615, 0.04394296119514615, 0.04394296119514615, 0.04394296119514615, 0.09213545685055491, 0.2363753372952171, 0.04819249565540876, 0.04819249565540876, 0.04819249565540876, 0.04819249565540876, 0.35367039903142117, 0.10406920318417705, 0.05244203011567135, 0.05244203011567135, 0.05244203011567135, 0.05244203011567135, 0.05244203011567135, 0.05244203011567135, 0.16198147926171705, 0.1091335946916053, 0.11729506173620408, 0.8536180020665479, 0.3104065462060174, 0.3104065462060174, 0.10963745772713837, 0.23904616445720575, 0.3483147575753712, 0.2931631863311595, 0.2733594262128591, 0.2076895661101081, 0.6017008161450798, 0.11377263035429314, 0.25540141893245527, 0.44971487038009106, 0.11636023509585247, 0.8292132655706146, 0.1552032731030087, 0.1552032731030087, 0.1552032731030087, 0.1552032731030087, 0.3585209421905148, 0.27724209656353355, 0.5815380626687497, 0.5914965420418921, 0.19311148447236257, 0.68850865066276, 0.5490029502376916, 0.06875974740373204, 0.7002629220957698, 0.052632194167864674, 0.052632194167864674, 0.1417690292677267, 0.08913683509986199, 0.036504640931997324, 0.036504640931997324, 0.036504640931997324, 0.036504640931997324, 0.036504640931997324, 0.036504640931997324, 0.036504640931997324, 0.036504640931997324, 0.036504640931997324, 0.036504640931997324, 0.20208543530895062, 0.05688172862812728, 0.1842365570558998, 0.19919946892856444, 0.020377087696129965, 0.020377087696129965, 0.020377087696129965, 0.020377087696129965, 0.020377087696129965, 0.020377087696129965, 0.020377087696129965, 0.020377087696129965, 0.020377087696129965, 0.020377087696129965, 0.061131263088389884, 0.2486914314914842, 0.04075417539225993, 0.20765064950499912, 0.2183372740829776, 0.3327428493779214, 0.06538079754865249, 0.06538079754865249, 0.13921022763423183, 0.2327177657573147, 0.16793233053194773, 0.12308267439836448, 0.3208924061704039, 0.12624337306908037, 0.0696303320089151, 0.11125509200635808, 0.09860155227995787, 0.1477597069813835, 0.13151581941610918, 0.15670951109067577, 0.16293090824404136, 0.3229658132575371, 0.46193618580339124, 0.3478406007224354, 0.22418296975246782, 0.22265294895465262, 0.68850865066276, 0.5914965420418921, 0.16951843007296283, 0.1697319268560618, 0.5125746871855528, 0.11457112939079542, 0.11457112939079542, 0.05941033192552901, 0.05941033192552901, 0.05941033192552901, 0.05941033192552901, 0.05941033192552901, 0.11882066385105802, 0.05941033192552901, 0.12307019831132063, 0.21834869823664665, 0.06365986638579162, 0.06365986638579162, 0.06365986638579162, 0.06365986638579162, 0.06365986638579162, 0.12731973277158323, 0.06365986638579162, 0.06365986638579162, 0.06365986638579162, 0.06365986638579162, 0.2630880980587827, 0.06790940084605422, 0.06790940084605422, 0.24935791567754878, 0.07128834589694351, 0.07128834589694351, 0.07128834589694351, 0.19902181633246152, 0.21475857321503494, 0.3375498384873079, 0.1843686440737622, 0.16039284512426352, 0.1767344863597127, 0.18267935359816545, 0.1897896939598988, 0.1960365924761206, 0.35008519674863564, 0.1717590968387397, 0.19320357407824057, 0.6137785593201361, 0.5914965420418921, 0.2737398055274764, 0.20893444457643673, 0.2732964528352598, 0.2994895026118903, 0.22690131716398731, 0.3208924061704039, 0.10297893331790176, 0.5068885573983543, 0.05361423388908218, 0.3651336676977698, 0.3094297701156308, 0.028931884174672393, 0.028931884174672393, 0.028931884174672393, 0.028931884174672393, 0.028931884174672393, 0.028931884174672393, 0.028931884174672393, 0.028931884174672393, 0.028931884174672393, 0.028931884174672393, 0.028931884174672393, 0.028931884174672393, 0.028931884174672393, 0.028931884174672393, 0.028931884174672393, 0.028931884174672393, 0.028931884174672393, 0.028931884174672393, 0.028931884174672393, 0.028931884174672393, 0.028931884174672393, 0.028931884174672393, 0.028931884174672393, 0.028931884174672393, 0.028931884174672393, 0.08679565252401719, 0.21246987473575216, 0.15291011391536297, 0.14117430707655854, 0.06549225266468692, 0.19925961725547411, 0.06636283726987, 0.8292132655706146, 0.0706123717301326, 0.10167900945178293, 0.6616927445507141, 0.3950795415181594, 0.243755215154584, 0.6017008161450798, 0.35580030820550396, 0.13534864066252444, 0.13664375512234103, 0.1843686440737622, 0.2467104739210248, 0.15813146382963422, 0.16507585977171732, 0.10452549689408598, 0.10452549689408598, 0.1418562205841889, 0.0838027117288474, 0.15599483330535321, 0.23109751323868089, 0.68850865066276, 0.17343102056782508, 0.1156384571456058, 0.1156384571456058, 0.1156384571456058, 0.05994399580293273, 0.11988799160586545, 0.05994399580293273, 0.05994399580293273, 0.05994399580293273, 0.11988799160586545, 0.05994399580293273, 0.05994399580293273, 0.05994399580293273, 0.05994399580293273, 0.705698711626109, 0.0641935302631924, 0.0641935302631924, 0.0641935302631924, 0.0641935302631924, 0.1360712723997533, 0.06844306472345203, 0.06844306472345203, 0.1227641247098743, 0.25122526820948543, 0.14364402888571298, 0.07182201444285649, 0.07182201444285649, 0.07182201444285649, 0.07269259918371168, 0.07269259918371168, 0.1301998057056183, 0.27436767834084597, 0.16654972014879327, 0.14573994544842406, 0.5490029502376916, 0.22967927101188712, 0.16252501374932926, 0.68850865066276, 0.20675602774019272, 0.3615297944595593, 0.37572112498292887, 0.3072593836048715, 0.3375498384873079, 0.5914965420418921, 0.27724209656353355, 0.44971487038009106, 0.2737398055274764, 0.5815380626687497, 0.08037681105708154, 0.08037681105708154], \"Category\": [\"Default\", \"Default\", \"Default\", \"Default\", \"Default\", \"Default\", \"Default\", \"Default\", \"Default\", \"Default\", \"Default\", \"Default\", \"Default\", \"Default\", \"Default\", \"Default\", \"Default\", \"Default\", \"Default\", \"Default\", \"Default\", \"Default\", \"Default\", \"Default\", \"Default\", \"Default\", \"Default\", \"Default\", \"Default\", \"Default\", \"Topic1\", \"Topic1\", \"Topic1\", \"Topic1\", \"Topic1\", \"Topic1\", \"Topic1\", \"Topic1\", \"Topic1\", \"Topic1\", \"Topic1\", \"Topic1\", \"Topic1\", \"Topic1\", \"Topic1\", \"Topic1\", \"Topic1\", \"Topic1\", \"Topic1\", \"Topic1\", \"Topic1\", \"Topic1\", \"Topic1\", \"Topic1\", \"Topic1\", \"Topic1\", \"Topic1\", \"Topic1\", \"Topic1\", \"Topic1\", \"Topic1\", \"Topic1\", \"Topic1\", \"Topic1\", \"Topic1\", \"Topic1\", \"Topic1\", \"Topic1\", \"Topic1\", \"Topic1\", \"Topic1\", \"Topic1\", \"Topic1\", \"Topic1\", \"Topic1\", \"Topic1\", \"Topic1\", \"Topic1\", \"Topic1\", \"Topic1\", \"Topic1\", \"Topic1\", \"Topic1\", \"Topic1\", \"Topic1\", \"Topic1\", \"Topic1\", \"Topic1\", \"Topic1\", \"Topic1\", \"Topic1\", \"Topic2\", \"Topic2\", \"Topic2\", \"Topic2\", \"Topic2\", \"Topic2\", \"Topic2\", \"Topic2\", \"Topic2\", \"Topic2\", \"Topic2\", \"Topic2\", \"Topic2\", \"Topic2\", \"Topic2\", \"Topic2\", \"Topic2\", \"Topic2\", \"Topic2\", \"Topic2\", \"Topic2\", \"Topic2\", \"Topic2\", \"Topic2\", \"Topic2\", \"Topic2\", \"Topic2\", \"Topic2\", \"Topic2\", \"Topic2\", \"Topic2\", \"Topic2\", \"Topic2\", \"Topic2\", \"Topic2\", \"Topic2\", \"Topic2\", \"Topic2\", \"Topic2\", \"Topic2\", \"Topic2\", \"Topic2\", \"Topic2\", \"Topic2\", \"Topic3\", \"Topic3\", \"Topic3\", \"Topic3\", \"Topic3\", \"Topic3\", \"Topic3\", \"Topic3\", \"Topic3\", \"Topic3\", \"Topic3\", \"Topic3\", \"Topic3\", \"Topic3\", \"Topic3\", \"Topic3\", \"Topic3\", \"Topic3\", \"Topic3\", \"Topic3\", \"Topic3\", \"Topic3\", \"Topic3\", \"Topic3\", \"Topic3\", \"Topic3\", \"Topic3\", \"Topic3\", \"Topic3\", \"Topic3\", \"Topic3\", \"Topic3\", \"Topic3\", \"Topic3\", \"Topic3\", \"Topic3\", \"Topic3\", \"Topic3\", \"Topic3\", \"Topic3\", \"Topic3\", \"Topic3\", \"Topic3\", \"Topic3\", \"Topic3\", \"Topic3\", \"Topic3\", \"Topic3\", \"Topic3\", \"Topic3\", \"Topic3\", \"Topic3\", \"Topic3\", \"Topic3\", \"Topic3\", \"Topic3\", \"Topic3\", \"Topic4\", \"Topic4\", \"Topic4\", \"Topic4\", \"Topic4\", \"Topic4\", \"Topic4\", \"Topic4\", \"Topic4\", \"Topic4\", \"Topic4\", \"Topic4\", \"Topic4\", \"Topic4\", \"Topic4\", \"Topic4\", \"Topic4\", \"Topic4\", \"Topic4\", \"Topic4\", \"Topic4\", \"Topic4\", \"Topic4\", \"Topic4\", \"Topic4\", \"Topic4\", \"Topic4\", \"Topic4\", \"Topic4\", \"Topic4\", \"Topic4\", \"Topic4\", \"Topic4\", \"Topic4\", \"Topic4\", \"Topic4\", \"Topic4\", \"Topic4\", \"Topic4\", \"Topic4\", \"Topic4\", \"Topic4\", \"Topic4\", \"Topic4\", \"Topic4\", \"Topic4\", \"Topic4\", \"Topic4\", \"Topic4\", \"Topic4\", \"Topic4\", \"Topic4\", \"Topic4\", \"Topic4\", \"Topic4\", \"Topic4\", \"Topic5\", \"Topic5\", \"Topic5\", \"Topic5\", \"Topic5\", \"Topic5\", \"Topic5\", \"Topic5\", \"Topic5\", \"Topic5\", \"Topic5\", \"Topic5\", \"Topic5\", \"Topic5\", \"Topic5\", \"Topic5\", \"Topic5\", \"Topic5\", \"Topic5\", \"Topic5\", \"Topic5\", \"Topic5\", \"Topic5\", \"Topic5\", \"Topic5\", \"Topic5\", \"Topic5\", \"Topic5\", \"Topic5\", \"Topic5\", \"Topic5\", \"Topic5\", \"Topic5\", \"Topic5\", \"Topic5\", \"Topic5\", \"Topic5\", \"Topic5\", \"Topic5\", \"Topic5\", \"Topic5\", \"Topic5\", \"Topic5\", \"Topic5\", \"Topic5\", \"Topic5\", \"Topic5\", \"Topic5\", \"Topic5\", \"Topic5\", \"Topic5\", \"Topic5\", \"Topic5\", \"Topic5\", \"Topic5\", \"Topic5\", \"Topic5\", \"Topic6\", \"Topic6\", \"Topic6\", \"Topic6\", \"Topic6\", \"Topic6\", \"Topic6\", \"Topic6\", \"Topic6\", \"Topic6\", \"Topic6\", \"Topic6\", \"Topic6\", \"Topic6\", \"Topic6\", \"Topic6\", \"Topic6\", \"Topic6\", \"Topic6\", \"Topic6\", \"Topic6\", \"Topic6\", \"Topic6\", \"Topic6\", \"Topic6\", \"Topic6\", \"Topic6\", \"Topic6\", \"Topic6\", \"Topic6\", \"Topic6\", \"Topic6\", \"Topic6\", \"Topic6\", \"Topic6\", \"Topic6\", \"Topic6\", \"Topic6\", \"Topic6\", \"Topic6\", \"Topic6\", \"Topic6\", \"Topic6\", \"Topic6\", \"Topic6\", \"Topic6\", \"Topic6\", \"Topic6\", \"Topic6\", \"Topic6\", \"Topic6\", \"Topic6\", \"Topic6\", \"Topic6\", \"Topic6\", \"Topic6\", \"Topic6\", \"Topic7\", \"Topic7\", \"Topic7\", \"Topic7\", \"Topic7\", \"Topic7\", \"Topic7\", \"Topic7\", \"Topic7\", \"Topic7\", \"Topic7\", \"Topic7\", \"Topic7\", \"Topic7\", \"Topic7\", \"Topic7\", \"Topic7\", \"Topic7\", \"Topic7\", \"Topic7\", \"Topic7\", \"Topic7\", \"Topic7\", \"Topic7\", \"Topic7\", \"Topic7\", \"Topic7\", \"Topic7\", \"Topic7\", \"Topic7\", \"Topic7\", \"Topic7\", \"Topic7\", \"Topic7\", \"Topic7\", \"Topic7\", \"Topic7\", \"Topic7\", \"Topic7\", \"Topic7\", \"Topic7\", \"Topic7\", \"Topic7\", \"Topic7\", \"Topic7\", \"Topic7\", \"Topic7\", \"Topic7\", \"Topic7\", \"Topic7\", \"Topic7\", \"Topic7\", \"Topic7\", \"Topic7\", \"Topic7\", \"Topic7\", \"Topic7\", \"Topic7\", \"Topic7\", \"Topic8\", \"Topic8\", \"Topic8\", \"Topic8\", \"Topic8\", \"Topic8\", \"Topic8\", \"Topic8\", \"Topic8\", \"Topic8\", \"Topic8\", \"Topic8\", \"Topic8\", \"Topic8\", \"Topic8\", \"Topic8\", \"Topic8\", \"Topic8\", \"Topic8\", \"Topic8\", \"Topic8\", \"Topic8\", \"Topic8\", \"Topic8\", \"Topic8\", \"Topic8\", \"Topic8\", \"Topic8\", \"Topic8\", \"Topic8\", \"Topic8\", \"Topic8\", \"Topic8\", \"Topic8\", \"Topic8\", \"Topic8\", \"Topic8\", \"Topic8\", \"Topic8\", \"Topic8\", \"Topic8\", \"Topic8\", \"Topic8\", \"Topic8\", \"Topic8\", \"Topic8\", \"Topic8\", \"Topic8\", \"Topic8\", \"Topic8\", \"Topic9\", \"Topic9\", \"Topic9\", \"Topic9\", \"Topic9\", \"Topic9\", \"Topic9\", \"Topic9\", \"Topic9\", \"Topic9\", \"Topic9\", \"Topic9\", \"Topic9\", \"Topic9\", \"Topic9\", \"Topic9\", \"Topic9\", \"Topic9\", \"Topic9\", \"Topic9\", \"Topic9\", \"Topic9\", \"Topic9\", \"Topic9\", \"Topic9\", \"Topic9\", \"Topic9\", \"Topic9\", \"Topic9\", \"Topic9\", \"Topic9\", \"Topic9\", \"Topic9\", \"Topic9\", \"Topic9\", \"Topic9\", \"Topic9\", \"Topic9\", \"Topic9\", \"Topic9\", \"Topic9\", \"Topic9\", \"Topic9\", \"Topic9\", \"Topic9\", \"Topic9\", \"Topic9\", \"Topic9\", \"Topic9\", \"Topic9\", \"Topic9\", \"Topic9\", \"Topic9\", \"Topic9\", \"Topic9\", \"Topic9\", \"Topic9\", \"Topic9\", \"Topic9\", \"Topic10\", \"Topic10\", \"Topic10\", \"Topic10\", \"Topic10\", \"Topic10\", \"Topic10\", \"Topic10\", \"Topic10\", \"Topic10\", \"Topic10\", \"Topic10\", \"Topic10\", \"Topic10\", \"Topic10\", \"Topic10\", \"Topic10\", \"Topic10\", \"Topic10\", \"Topic10\", \"Topic10\", \"Topic10\", \"Topic10\", \"Topic10\", \"Topic10\", \"Topic10\", \"Topic10\", \"Topic10\", \"Topic10\", \"Topic10\", \"Topic10\", \"Topic10\", \"Topic10\", \"Topic10\", \"Topic10\", \"Topic10\", \"Topic10\", \"Topic10\", \"Topic10\", \"Topic10\", \"Topic10\", \"Topic10\", \"Topic10\", \"Topic10\", \"Topic10\", \"Topic10\", \"Topic10\", \"Topic10\", \"Topic10\"], \"logprob\": [30.0, 29.0, 28.0, 27.0, 26.0, 25.0, 24.0, 23.0, 22.0, 21.0, 20.0, 19.0, 18.0, 17.0, 16.0, 15.0, 14.0, 13.0, 12.0, 11.0, 10.0, 9.0, 8.0, 7.0, 6.0, 5.0, 4.0, 3.0, 2.0, 1.0, -4.6756, -4.6756, -5.0811, -5.0811, -5.0811, -5.7742, -5.7742, -5.7742, -5.7742, -5.7742, -5.7742, -5.7742, -5.7742, -5.7742, -5.7742, -5.7742, -5.7742, -5.7742, -5.7742, -5.7742, -5.7742, -5.7742, -5.7742, -5.7742, -5.7742, -5.7742, -5.7742, -5.7742, -5.7742, -5.7742, -5.0811, -4.6756, -5.0811, -5.0811, -4.6756, -5.0811, -5.0811, -4.5216, -3.6948, -5.0811, -5.0811, -5.0811, -5.0811, -4.6756, -5.0811, -5.0811, -5.0811, -5.0811, -5.0811, -3.9825, -5.0811, -4.8093, -5.0811, -5.2147, -4.7467, -4.6756, -4.6756, -4.8093, -4.8093, -4.6756, -4.9268, -3.7333, -5.0683, -5.2308, -4.0546, -4.5678, -3.5645, -5.6661, -4.9285, -5.8668, -4.5675, -4.4009, -4.004, -5.6661, -4.5988, -5.2919, -6.2723, -6.2723, -5.5791, -4.5516, -4.9788, -4.2804, -5.2533, -5.4255, -4.7688, -6.4546, -6.4546, -5.3645, -5.4997, -5.1196, -5.5798, -5.1536, -5.5798, -4.0576, -5.5798, -4.672, -4.2153, -5.0629, -4.4295, -5.1273, -4.8813, -4.5109, -5.2924, -5.3073, -5.218, -4.9958, -4.5904, -4.3027, -5.689, -5.689, -5.689, -5.689, -5.689, -5.689, -5.689, -5.689, -4.9958, -5.689, -5.689, -5.689, -5.689, -5.689, -5.689, -5.689, -5.689, -5.689, -4.9958, -4.9958, -4.9958, -4.9958, -4.9958, -5.689, -5.689, -4.9958, -5.689, -5.1295, -3.3753, -4.2132, -4.5539, -4.4363, -4.9958, -4.9958, -4.3569, -4.8416, -4.9958, -4.8416, -4.5539, -4.3569, -4.9958, -4.5539, -4.8416, -5.1295, -5.1295, -4.9958, -4.9958, -4.724, -4.9958, -4.256, -4.5539, -4.6357, -4.8416, -4.9491, -4.4382, -5.1314, -5.1314, -5.1314, -5.1314, -4.0327, -5.1314, -5.1314, -5.1314, -5.1314, -5.1314, -5.1314, -5.1314, -5.1314, -5.1314, -5.1314, -4.4382, -5.1314, -4.4382, -5.1314, -5.1314, -5.1314, -5.1314, -5.1314, -5.1314, -5.1314, -5.1314, -5.1314, -5.1314, -5.1314, -4.1664, -4.1664, -3.5908, -4.4382, -4.4382, -4.5719, -4.284, -4.1664, -4.5719, -4.0781, -4.5719, -4.5719, -4.6895, -4.6825, -4.797, -4.8979, -4.8979, -4.8979, -4.8979, -4.9943, -5.1314, -5.1314, -5.1314, -5.1314, -5.1314, -5.1314, -4.2962, -4.9894, -4.9894, -4.9894, -4.9894, -5.6825, -5.6825, -5.6825, -5.6825, -5.6825, -4.9894, -5.6825, -5.6825, -5.6825, -4.9894, -5.6825, -5.6825, -5.6825, -5.6825, -5.6825, -5.6825, -5.6825, -4.5839, -4.142, -4.4299, -4.4299, -4.9894, -5.6825, -5.6825, -5.1231, -4.9894, -4.4299, -3.2846, -4.0731, -4.5839, -4.142, -4.7176, -4.2962, -4.2962, -4.7176, -4.4299, -4.8352, -4.0245, -5.1231, -4.8352, -5.1231, -3.8703, -4.7176, -4.655, -4.2528, -4.3864, -4.8352, -4.8524, -4.9427, -4.9427, -4.9894, -4.9894, -5.6261, -5.6261, -5.6261, -5.6261, -5.6261, -5.6261, -5.6261, -5.6261, -5.6261, -5.6261, -5.6261, -5.6261, -5.6261, -5.6261, -4.933, -4.0168, -5.6261, -5.6261, -5.6261, -5.6261, -3.6803, -4.933, -5.6261, -5.6261, -5.6261, -5.6261, -5.6261, -5.6261, -4.5275, -4.933, -4.9332, -3.2286, -4.2402, -4.2402, -5.0666, -4.4911, -4.2403, -4.3739, -4.4766, -4.6614, -3.9684, -5.0668, -4.5989, -4.2942, -5.0666, -3.9685, -4.9334, -4.9334, -4.9334, -4.9334, -4.4917, -4.6997, -4.3303, -4.3908, -4.9336, -4.8903, -4.9873, -5.0658, -2.7632, -5.3535, -5.3535, -4.3726, -4.8427, -5.7589, -5.7589, -5.7589, -5.7589, -5.7589, -5.7589, -5.7589, -5.7589, -5.7589, -5.7589, -4.0542, -5.3535, -4.1879, -4.1495, -6.4521, -6.4521, -6.4521, -6.4521, -6.4521, -6.4521, -6.4521, -6.4521, -6.4521, -6.4521, -5.3535, -3.9672, -5.7589, -4.1879, -4.1879, -3.8132, -5.3535, -5.3535, -4.6603, -4.1879, -4.5063, -4.8427, -4.1718, -4.9763, -5.3535, -5.0658, -5.1995, -4.9763, -5.0658, -4.9763, -4.9763, -4.6398, -4.5061, -4.7145, -4.9116, -4.9658, -4.7039, -4.811, -5.0939, -4.0967, -2.9981, -4.5022, -4.5022, -5.1953, -5.1953, -5.1953, -5.1953, -5.1953, -4.5022, -5.1953, -4.5022, -3.9427, -5.1953, -5.1953, -5.1953, -5.1953, -5.1953, -4.5022, -5.1953, -5.1953, -5.1953, -5.1953, -3.809, -5.1953, -5.1953, -3.9427, -5.1953, -5.1953, -5.1953, -4.2304, -4.3479, -4.0603, -4.5022, -4.6358, -4.6358, -4.6358, -4.6358, -4.6358, -4.3651, -4.7534, -4.7534, -4.3479, -4.3651, -4.6528, -4.7534, -4.7534, -4.7534, -4.8609, -4.8609, -4.5699, -3.0118, -5.263, -3.3818, -3.5583, -5.9562, -5.9562, -5.9562, -5.9562, -5.9562, -5.9562, -5.9562, -5.9562, -5.9562, -5.9562, -5.9562, -5.9562, -5.9562, -5.9562, -5.9562, -5.9562, -5.9562, -5.9562, -5.9562, -5.9562, -5.9562, -5.9562, -5.9562, -5.9562, -5.9562, -4.8576, -4.0103, -4.4804, -4.5699, -5.263, -4.3468, -5.263, -3.1995, -5.263, -4.9912, -3.6069, -4.128, -4.4804, -3.8926, -4.369, -4.9912, -4.9912, -4.8576, -4.7055, -4.9912, -4.9912, -5.263, -5.263, -5.1088, -5.3967, -5.1088, -5.126, -4.9965, -5.2163, -4.3053, -4.3053, -4.3053, -4.9985, -4.3053, -4.9985, -4.9985, -4.9985, -4.3053, -4.9985, -4.9985, -4.9985, -4.9985, -2.5672, -4.9985, -4.9985, -4.9985, -4.9985, -4.3053, -4.9985, -4.9985, -4.439, -3.7458, -4.3053, -4.9985, -4.9985, -4.9985, -4.9985, -4.9985, -4.439, -3.7458, -4.3053, -4.439, -3.5122, -4.2586, -4.5566, -4.0387, -4.5566, -4.456, -4.456, -4.5566, -4.5566, -4.456, -4.765, -4.765, -4.8614, -4.955, -4.9985, -4.9985], \"loglift\": [30.0, 29.0, 28.0, 27.0, 26.0, 25.0, 24.0, 23.0, 22.0, 21.0, 20.0, 19.0, 18.0, 17.0, 16.0, 15.0, 14.0, 13.0, 12.0, 11.0, 10.0, 9.0, 8.0, 7.0, 6.0, 5.0, 4.0, 3.0, 2.0, 1.0, 2.0553, 2.0553, 2.0395, 2.0395, 2.0395, 1.9933, 1.9933, 1.9933, 1.9933, 1.9933, 1.9933, 1.9933, 1.9933, 1.9933, 1.9933, 1.9933, 1.9933, 1.9933, 1.9933, 1.9933, 1.9933, 1.9933, 1.9933, 1.9933, 1.9933, 1.9933, 1.9933, 1.9933, 1.9933, 1.9933, 1.9933, 1.9349, 1.9492, 1.9492, 1.907, 1.9148, 1.9148, 1.8124, 1.6289, 1.8664, 1.8664, 1.8342, 1.8342, 1.7305, 1.8275, 1.8275, 1.79, 1.79, 1.79, 1.4414, 1.6853, 1.5203, 1.6211, 1.6878, 1.3653, 1.1901, 1.0174, 1.1932, 1.1903, 0.7081, 1.0988, 2.0606, 1.9356, 1.9078, 1.8632, 1.8423, 1.8192, 1.8129, 1.7685, 1.7575, 1.7188, 1.692, 1.689, 1.6853, 1.6199, 1.6199, 1.6192, 1.6192, 1.6192, 1.5979, 1.5922, 1.5854, 1.5756, 1.5661, 1.5507, 1.5446, 1.5446, 1.5368, 1.5344, 1.5051, 1.4985, 1.4982, 1.4985, 1.3663, 1.4985, 1.3275, 1.1084, 1.2707, 0.8826, 1.2543, 1.0112, 0.6144, 1.2925, 1.2869, 0.0365, 2.1341, 2.1184, 2.0922, 2.0876, 2.0876, 2.0876, 2.0876, 2.0876, 2.0876, 2.0876, 2.0876, 2.0876, 2.0876, 2.0876, 2.0876, 2.0876, 2.0876, 2.0876, 2.0876, 2.0876, 2.0876, 2.0431, 2.009, 2.009, 2.009, 2.009, 2.0005, 2.0005, 2.0005, 2.0005, 1.9678, 1.8253, 1.7283, 1.7114, 1.5661, 1.7739, 1.7443, 1.4115, 1.6563, 1.7319, 1.6407, 1.4557, 1.3073, 1.6785, 1.3642, 1.539, 1.7019, 1.7019, 1.6011, 1.6011, 1.4041, 1.6011, 0.8694, 1.0871, 1.0556, 1.3661, 0.7967, 2.2528, 2.2225, 2.2225, 2.2225, 2.2225, 2.2225, 2.2225, 2.2225, 2.2225, 2.2225, 2.2225, 2.2225, 2.2225, 2.2225, 2.2225, 2.2225, 2.2225, 2.2225, 2.1704, 2.1646, 2.1646, 2.1646, 2.1646, 2.1646, 2.1646, 2.1646, 2.1646, 2.1646, 2.1646, 2.1646, 2.0752, 1.9959, 1.8939, 1.9393, 1.9393, 1.971, 1.8115, 1.6762, 1.8532, 1.492, 1.6832, 1.5562, 1.4403, 1.2778, 1.5198, 1.3298, 1.2038, 1.0082, 0.6137, 0.7355, 2.1099, 2.0086, 2.1099, 1.1549, 2.1099, 1.6791, 2.2475, 2.2475, 2.2475, 2.2475, 2.2475, 2.1958, 2.1958, 2.1958, 2.1958, 2.1958, 2.1958, 2.1958, 2.1958, 2.1958, 2.1467, 2.0998, 2.0998, 2.0998, 2.0998, 2.0998, 2.0998, 2.0998, 2.0031, 1.9502, 1.9486, 1.9486, 1.9477, 1.9477, 1.9477, 1.9391, 1.8814, 1.7799, 1.586, 1.6939, 1.773, 1.5961, 1.7588, 1.586, 1.586, 1.6959, 1.5095, 1.6958, 1.1959, 1.8646, 1.6797, 1.8453, 1.0294, 1.5453, 1.4326, 0.8328, 0.8681, 1.1905, 0.3851, 1.1346, 0.8031, 1.586, 1.586, 2.2111, 2.2111, 2.2111, 2.2111, 2.2111, 2.2111, 2.2111, 2.2111, 2.2111, 2.2111, 2.2111, 2.2111, 2.2111, 2.2111, 2.1639, 2.138, 2.1188, 2.1188, 2.1188, 2.1188, 2.0715, 2.0421, 2.0343, 2.0343, 2.0343, 2.0343, 2.0343, 2.0343, 2.0052, 1.9946, 1.9223, 1.642, 1.642, 1.642, 1.8563, 1.6524, 1.5267, 1.5655, 1.5328, 1.6227, 1.252, 1.8191, 1.4784, 1.2174, 1.7968, 0.9312, 1.642, 1.642, 1.642, 1.642, 1.2465, 1.2956, 0.9242, 0.8467, 1.4233, 0.1953, 0.3247, 2.3237, 2.3055, 2.3034, 2.3034, 2.2933, 2.2873, 2.2638, 2.2638, 2.2638, 2.2638, 2.2638, 2.2638, 2.2638, 2.2638, 2.2638, 2.2638, 2.2573, 2.2257, 2.2161, 2.1763, 2.1537, 2.1537, 2.1537, 2.1537, 2.1537, 2.1537, 2.1537, 2.1537, 2.1537, 2.1537, 2.1537, 2.1368, 2.1537, 2.0964, 2.0463, 1.9996, 2.0865, 2.0865, 2.0238, 1.9825, 1.9903, 1.9647, 1.6773, 1.8056, 2.0235, 1.8425, 1.8296, 1.6483, 1.6752, 1.5894, 1.5505, 1.2028, 0.9786, 1.0539, 1.2961, 1.2487, 0.3817, 0.4265, 1.3933, 2.3892, 2.3826, 2.3768, 2.3768, 2.3404, 2.3404, 2.3404, 2.3404, 2.3404, 2.3404, 2.3404, 2.3052, 2.2914, 2.2713, 2.2713, 2.2713, 2.2713, 2.2713, 2.2713, 2.2713, 2.2713, 2.2713, 2.2713, 2.2387, 2.2067, 2.2067, 2.1586, 2.1581, 2.1581, 2.1581, 2.0964, 1.9027, 1.7382, 1.9011, 1.9067, 1.8097, 1.7766, 1.7384, 1.706, 1.3968, 1.7207, 1.603, 0.8526, 0.8724, 1.3552, 1.5247, 1.2562, 1.1647, 1.3347, 0.9881, 2.4157, 2.3801, 2.3753, 2.3381, 2.3271, 2.299, 2.299, 2.299, 2.299, 2.299, 2.299, 2.299, 2.299, 2.299, 2.299, 2.299, 2.299, 2.299, 2.299, 2.299, 2.299, 2.299, 2.299, 2.299, 2.299, 2.299, 2.299, 2.299, 2.299, 2.299, 2.299, 2.2511, 2.1099, 2.1003, 2.1752, 1.9788, 2.162, 1.7002, 2.0999, 2.0071, 1.5184, 1.5131, 1.6436, 1.3278, 1.3767, 1.7211, 1.7115, 1.5456, 1.4064, 1.5655, 1.5225, 1.7077, 1.7077, 1.5565, 1.795, 1.4615, 1.0513, 0.0892, 1.248, 2.5644, 2.5644, 2.5644, 2.5283, 2.5283, 2.5283, 2.5283, 2.5283, 2.5283, 2.5283, 2.5283, 2.5283, 2.5283, 2.4938, 2.4598, 2.4598, 2.4598, 2.4598, 2.4017, 2.3957, 2.3957, 2.3709, 2.348, 2.3475, 2.3475, 2.3475, 2.3475, 2.3355, 2.3355, 2.3121, 2.2599, 2.1996, 2.1994, 1.7998, 1.9249, 1.9728, 1.0469, 1.7321, 1.2738, 1.2353, 1.3359, 1.2419, 0.7815, 1.2303, 0.7466, 1.1465, 0.2995, 2.235, 2.235]}, \"token.table\": {\"Topic\": [7, 10], \"Freq\": [1.428035054329547, 1.417035320492149], \"Term\": [\"festival\", \"sand\"]}, \"R\": 30, \"lambda.step\": 0.01, \"plot.opts\": {\"xlab\": \"PC1\", \"ylab\": \"PC2\"}, \"topic.order\": [1, 8, 5, 6, 3, 10, 4, 2, 7, 9]};\n",
       "\n",
       "function LDAvis_load_lib(url, callback){\n",
       "  var s = document.createElement('script');\n",
       "  s.src = url;\n",
       "  s.async = true;\n",
       "  s.onreadystatechange = s.onload = callback;\n",
       "  s.onerror = function(){console.warn(\"failed to load library \" + url);};\n",
       "  document.getElementsByTagName(\"head\")[0].appendChild(s);\n",
       "}\n",
       "\n",
       "if(typeof(LDAvis) !== \"undefined\"){\n",
       "   // already loaded: just create the visualization\n",
       "   !function(LDAvis){\n",
       "       new LDAvis(\"#\" + \"ldavis_el1841943945790247920489384\", ldavis_el1841943945790247920489384_data);\n",
       "   }(LDAvis);\n",
       "}else if(typeof define === \"function\" && define.amd){\n",
       "   // require.js is available: use it to load d3/LDAvis\n",
       "   require.config({paths: {d3: \"https://d3js.org/d3.v5\"}});\n",
       "   require([\"d3\"], function(d3){\n",
       "      window.d3 = d3;\n",
       "      LDAvis_load_lib(\"https://cdn.jsdelivr.net/gh/bmabey/pyLDAvis@3.4.0/pyLDAvis/js/ldavis.v3.0.0.js\", function(){\n",
       "        new LDAvis(\"#\" + \"ldavis_el1841943945790247920489384\", ldavis_el1841943945790247920489384_data);\n",
       "      });\n",
       "    });\n",
       "}else{\n",
       "    // require.js not available: dynamically load d3 & LDAvis\n",
       "    LDAvis_load_lib(\"https://d3js.org/d3.v5.js\", function(){\n",
       "         LDAvis_load_lib(\"https://cdn.jsdelivr.net/gh/bmabey/pyLDAvis@3.4.0/pyLDAvis/js/ldavis.v3.0.0.js\", function(){\n",
       "                 new LDAvis(\"#\" + \"ldavis_el1841943945790247920489384\", ldavis_el1841943945790247920489384_data);\n",
       "            })\n",
       "         });\n",
       "}\n",
       "</script>"
      ],
      "text/plain": [
       "<IPython.core.display.HTML object>"
      ]
     },
     "execution_count": 41,
     "metadata": {},
     "output_type": "execute_result"
    }
   ],
   "source": [
    "import pyLDAvis\n",
    "import pyLDAvis.lda_model\n",
    "\n",
    "nmf_vis_data = pyLDAvis.lda_model.prepare(nmf_model, tfidf_dt_matrix, tfidf_vectorizer)\n",
    "\n",
    "pyLDAvis.display(nmf_vis_data)"
   ]
  },
  {
   "cell_type": "markdown",
   "id": "7909c958-5ef1-4e78-99de-627d08fcd668",
   "metadata": {},
   "source": [
    "As shown in the visualisation above, the 10 topics are generally well separated, with the exception of some overlap between Topics 3, 4 and 7, as well as between Topics 5 and 6.\n",
    "\n",
    "Upon further investigation, I observed that Topic 9 may share similarities with Topics 5 and 6, as it also includes key terms like *surfing* and *WSL*. This investigation alligned with our TF/IDF result. However, additional analysis is required to understand why NMF model classified Topic 9 separately from Topics 5 and 6 despite these similarities.\n",
    "\n",
    "Topic 3, 4 and 7 seems to share some similarities, though they are not as tightly clustered compared to Topics 5 and 6. After reviewing their content, I found that these topics focus on distinct subjects - 'food' and 'travel' (Topic 4), 'hotel' 'room' 'booking' (Topic 3), and 'arts' 'festival' 'sunday' (Topic 7). While they could potentially be grouped under a broader category \"Traveling\", this interpretation would require further investigation to confirm.\n",
    "\n",
    "Based on the results above, we could consider developing a campaign that integrates the ongoing surfing events with weekend festivals and food experiences to promote the Gold Coast to tourists. However, similar to our previous analysis using TF/IDF, the NMF model shows that there are does not capture the tone or intent of the human writers. It simply emphasises the most statistically significant words within the text. Without considering the broader context, there is a risk of misinterpreting articles content and assigning them to incorrect topics, which could lead to ineffective or misguided campaign messages. The data visualisation on the right-hand side (top term frequency chart), although useful for highlighting key terms, merely aids in forming assumptions about the articles. It does not provide a comprehensive view of the article content or its underlying message. Therefore, while these models offer valuable quantitative insights, they should be complemented by qualitative analysis to ensure accurate interpretation. "
   ]
  },
  {
   "cell_type": "markdown",
   "id": "650e7f42-7c62-432a-a723-e70102ba4427",
   "metadata": {},
   "source": [
    "#### Update the terms matrix"
   ]
  },
  {
   "cell_type": "code",
   "execution_count": 44,
   "id": "f040b278-c5d4-43f4-b514-5b097a2713f2",
   "metadata": {},
   "outputs": [
    {
     "data": {
      "text/html": [
       "<div>\n",
       "<style scoped>\n",
       "    .dataframe tbody tr th:only-of-type {\n",
       "        vertical-align: middle;\n",
       "    }\n",
       "\n",
       "    .dataframe tbody tr th {\n",
       "        vertical-align: top;\n",
       "    }\n",
       "\n",
       "    .dataframe thead th {\n",
       "        text-align: right;\n",
       "    }\n",
       "</style>\n",
       "<table border=\"1\" class=\"dataframe\">\n",
       "  <thead>\n",
       "    <tr style=\"text-align: right;\">\n",
       "      <th></th>\n",
       "      <th>title</th>\n",
       "      <th>tfidf</th>\n",
       "      <th>nmf</th>\n",
       "    </tr>\n",
       "  </thead>\n",
       "  <tbody>\n",
       "    <tr>\n",
       "      <th>0</th>\n",
       "      <td>Six reasons why the Sanctuary Cove Internation...</td>\n",
       "      <td>[kids, photograph, offers, water, chance, retu...</td>\n",
       "      <td>[kids, photograph, offers, water, chance, retu...</td>\n",
       "    </tr>\n",
       "    <tr>\n",
       "      <th>1</th>\n",
       "      <td>‘Best day of my life’, ‘surreal and special’: ...</td>\n",
       "      <td>[bells, nichols, wsl, surfing, robinson, final...</td>\n",
       "      <td>[bells, nichols, wsl, surfing, robinson, bell,...</td>\n",
       "    </tr>\n",
       "    <tr>\n",
       "      <th>2</th>\n",
       "      <td>Australia’s women’s surfers lead local charge ...</td>\n",
       "      <td>[bells, surfing, wsl, ewing, season, win, year...</td>\n",
       "      <td>[bells, surfing, wsl, ewing, season, win, year...</td>\n",
       "    </tr>\n",
       "    <tr>\n",
       "      <th>3</th>\n",
       "      <td>Winter weekenders: 21 Australian festivals wor...</td>\n",
       "      <td>[festival, sunday, arts, talks, lineup, music,...</td>\n",
       "      <td>[festival, sunday, arts, talks, lineup, music,...</td>\n",
       "    </tr>\n",
       "    <tr>\n",
       "      <th>4</th>\n",
       "      <td>‘A meditative practice’: the Australian Sand S...</td>\n",
       "      <td>[sand, said, competitors, artists, year, compe...</td>\n",
       "      <td>[sand, said, artists, competitors, year, compe...</td>\n",
       "    </tr>\n",
       "    <tr>\n",
       "      <th>5</th>\n",
       "      <td>Away with Sofia Levin: ‘I tried raw pig’s bloo...</td>\n",
       "      <td>[food, person, good, including, travel, fresh,...</td>\n",
       "      <td>[food, person, good, fresh, including, travel,...</td>\n",
       "    </tr>\n",
       "    <tr>\n",
       "      <th>6</th>\n",
       "      <td>Sierra and Josh Kerr: father-daughter duo who ...</td>\n",
       "      <td>[sierra, surfing, josh, kerr, says, wsl, fathe...</td>\n",
       "      <td>[sierra, surfing, josh, kerr, says, wsl, fathe...</td>\n",
       "    </tr>\n",
       "    <tr>\n",
       "      <th>7</th>\n",
       "      <td>New renovations, retro vibes: reviving Austral...</td>\n",
       "      <td>[sea, hotel, says, berry, south, new, sign, mo...</td>\n",
       "      <td>[sea, hotel, says, berry, new, south, sign, mo...</td>\n",
       "    </tr>\n",
       "    <tr>\n",
       "      <th>8</th>\n",
       "      <td>Morning Mail: Trump threatens more China tarif...</td>\n",
       "      <td>[trump, tariffs, education, war, minister, gov...</td>\n",
       "      <td>[trump, tariffs, education, students, war, hig...</td>\n",
       "    </tr>\n",
       "    <tr>\n",
       "      <th>9</th>\n",
       "      <td>Latham ordered to pay independent MP’s legal c...</td>\n",
       "      <td>[dutton, updated, minister, sydney, tariffs, t...</td>\n",
       "      <td>[dutton, updated, minister, sydney, tariffs, t...</td>\n",
       "    </tr>\n",
       "  </tbody>\n",
       "</table>\n",
       "</div>"
      ],
      "text/plain": [
       "                                               title  \\\n",
       "0  Six reasons why the Sanctuary Cove Internation...   \n",
       "1  ‘Best day of my life’, ‘surreal and special’: ...   \n",
       "2  Australia’s women’s surfers lead local charge ...   \n",
       "3  Winter weekenders: 21 Australian festivals wor...   \n",
       "4  ‘A meditative practice’: the Australian Sand S...   \n",
       "5  Away with Sofia Levin: ‘I tried raw pig’s bloo...   \n",
       "6  Sierra and Josh Kerr: father-daughter duo who ...   \n",
       "7  New renovations, retro vibes: reviving Austral...   \n",
       "8  Morning Mail: Trump threatens more China tarif...   \n",
       "9  Latham ordered to pay independent MP’s legal c...   \n",
       "\n",
       "                                               tfidf  \\\n",
       "0  [kids, photograph, offers, water, chance, retu...   \n",
       "1  [bells, nichols, wsl, surfing, robinson, final...   \n",
       "2  [bells, surfing, wsl, ewing, season, win, year...   \n",
       "3  [festival, sunday, arts, talks, lineup, music,...   \n",
       "4  [sand, said, competitors, artists, year, compe...   \n",
       "5  [food, person, good, including, travel, fresh,...   \n",
       "6  [sierra, surfing, josh, kerr, says, wsl, fathe...   \n",
       "7  [sea, hotel, says, berry, south, new, sign, mo...   \n",
       "8  [trump, tariffs, education, war, minister, gov...   \n",
       "9  [dutton, updated, minister, sydney, tariffs, t...   \n",
       "\n",
       "                                                 nmf  \n",
       "0  [kids, photograph, offers, water, chance, retu...  \n",
       "1  [bells, nichols, wsl, surfing, robinson, bell,...  \n",
       "2  [bells, surfing, wsl, ewing, season, win, year...  \n",
       "3  [festival, sunday, arts, talks, lineup, music,...  \n",
       "4  [sand, said, artists, competitors, year, compe...  \n",
       "5  [food, person, good, fresh, including, travel,...  \n",
       "6  [sierra, surfing, josh, kerr, says, wsl, fathe...  \n",
       "7  [sea, hotel, says, berry, new, south, sign, mo...  \n",
       "8  [trump, tariffs, education, students, war, hig...  \n",
       "9  [dutton, updated, minister, sydney, tariffs, t...  "
      ]
     },
     "execution_count": 44,
     "metadata": {},
     "output_type": "execute_result"
    }
   ],
   "source": [
    "for idx,topic in enumerate(doc_topic_nmf):\n",
    "    topic_num = topic.argmax()\n",
    "    top_topic = nmf_topic_dict[f\"topic_{topic_num}\"]\n",
    "    terms_df.at[idx,'nmf'] = list(top_topic.keys())\n",
    "\n",
    "terms_df"
   ]
  },
  {
   "cell_type": "markdown",
   "id": "18a18c51-e56a-467f-8dfb-0e07f16c86fe",
   "metadata": {},
   "source": [
    "The updated matrix shows that there is little difference between the key terms identified by the NMF model and those extracted using the TF-IDF algorithm. However, when the number of topics in the NMF model is reduced, some articles begin to share the same key terms. This occurs because the model groups them under the same topic, indicating that it determines that those articles cover similar subject."
   ]
  },
  {
   "cell_type": "code",
   "execution_count": 46,
   "id": "818a19c4-c7ef-4e78-9964-456d6a9eee19",
   "metadata": {},
   "outputs": [
    {
     "data": {
      "text/html": [
       "<div>\n",
       "<style scoped>\n",
       "    .dataframe tbody tr th:only-of-type {\n",
       "        vertical-align: middle;\n",
       "    }\n",
       "\n",
       "    .dataframe tbody tr th {\n",
       "        vertical-align: top;\n",
       "    }\n",
       "\n",
       "    .dataframe thead th {\n",
       "        text-align: right;\n",
       "    }\n",
       "</style>\n",
       "<table border=\"1\" class=\"dataframe\">\n",
       "  <thead>\n",
       "    <tr style=\"text-align: right;\">\n",
       "      <th></th>\n",
       "      <th>title</th>\n",
       "      <th>tfidf</th>\n",
       "      <th>nmf</th>\n",
       "    </tr>\n",
       "  </thead>\n",
       "  <tbody>\n",
       "    <tr>\n",
       "      <th>0</th>\n",
       "      <td>Six reasons why the Sanctuary Cove Internation...</td>\n",
       "      <td>[kids, photograph, offers, water, chance, retu...</td>\n",
       "      <td>[kids, sea, photograph, new, water, offers, ho...</td>\n",
       "    </tr>\n",
       "    <tr>\n",
       "      <th>1</th>\n",
       "      <td>‘Best day of my life’, ‘surreal and special’: ...</td>\n",
       "      <td>[bells, nichols, wsl, surfing, robinson, final...</td>\n",
       "      <td>[bells, surfing, wsl, nichols, ewing, bell, fi...</td>\n",
       "    </tr>\n",
       "    <tr>\n",
       "      <th>2</th>\n",
       "      <td>Australia’s women’s surfers lead local charge ...</td>\n",
       "      <td>[bells, surfing, wsl, ewing, season, win, year...</td>\n",
       "      <td>[bells, surfing, wsl, nichols, ewing, bell, fi...</td>\n",
       "    </tr>\n",
       "    <tr>\n",
       "      <th>3</th>\n",
       "      <td>Winter weekenders: 21 Australian festivals wor...</td>\n",
       "      <td>[festival, sunday, arts, talks, lineup, music,...</td>\n",
       "      <td>[festival, sunday, arts, talks, lineup, music,...</td>\n",
       "    </tr>\n",
       "    <tr>\n",
       "      <th>4</th>\n",
       "      <td>‘A meditative practice’: the Australian Sand S...</td>\n",
       "      <td>[sand, said, competitors, artists, year, compe...</td>\n",
       "      <td>[sand, said, competitors, artists, year, compe...</td>\n",
       "    </tr>\n",
       "    <tr>\n",
       "      <th>5</th>\n",
       "      <td>Away with Sofia Levin: ‘I tried raw pig’s bloo...</td>\n",
       "      <td>[food, person, good, including, travel, fresh,...</td>\n",
       "      <td>[food, person, good, fresh, travel, including,...</td>\n",
       "    </tr>\n",
       "    <tr>\n",
       "      <th>6</th>\n",
       "      <td>Sierra and Josh Kerr: father-daughter duo who ...</td>\n",
       "      <td>[sierra, surfing, josh, kerr, says, wsl, fathe...</td>\n",
       "      <td>[sierra, surfing, josh, kerr, says, wsl, fathe...</td>\n",
       "    </tr>\n",
       "    <tr>\n",
       "      <th>7</th>\n",
       "      <td>New renovations, retro vibes: reviving Austral...</td>\n",
       "      <td>[sea, hotel, says, berry, south, new, sign, mo...</td>\n",
       "      <td>[kids, sea, photograph, new, water, offers, ho...</td>\n",
       "    </tr>\n",
       "    <tr>\n",
       "      <th>8</th>\n",
       "      <td>Morning Mail: Trump threatens more China tarif...</td>\n",
       "      <td>[trump, tariffs, education, war, minister, gov...</td>\n",
       "      <td>[trump, dutton, tariffs, minister, updated, go...</td>\n",
       "    </tr>\n",
       "    <tr>\n",
       "      <th>9</th>\n",
       "      <td>Latham ordered to pay independent MP’s legal c...</td>\n",
       "      <td>[dutton, updated, minister, sydney, tariffs, t...</td>\n",
       "      <td>[trump, dutton, tariffs, minister, updated, go...</td>\n",
       "    </tr>\n",
       "  </tbody>\n",
       "</table>\n",
       "</div>"
      ],
      "text/plain": [
       "                                               title  \\\n",
       "0  Six reasons why the Sanctuary Cove Internation...   \n",
       "1  ‘Best day of my life’, ‘surreal and special’: ...   \n",
       "2  Australia’s women’s surfers lead local charge ...   \n",
       "3  Winter weekenders: 21 Australian festivals wor...   \n",
       "4  ‘A meditative practice’: the Australian Sand S...   \n",
       "5  Away with Sofia Levin: ‘I tried raw pig’s bloo...   \n",
       "6  Sierra and Josh Kerr: father-daughter duo who ...   \n",
       "7  New renovations, retro vibes: reviving Austral...   \n",
       "8  Morning Mail: Trump threatens more China tarif...   \n",
       "9  Latham ordered to pay independent MP’s legal c...   \n",
       "\n",
       "                                               tfidf  \\\n",
       "0  [kids, photograph, offers, water, chance, retu...   \n",
       "1  [bells, nichols, wsl, surfing, robinson, final...   \n",
       "2  [bells, surfing, wsl, ewing, season, win, year...   \n",
       "3  [festival, sunday, arts, talks, lineup, music,...   \n",
       "4  [sand, said, competitors, artists, year, compe...   \n",
       "5  [food, person, good, including, travel, fresh,...   \n",
       "6  [sierra, surfing, josh, kerr, says, wsl, fathe...   \n",
       "7  [sea, hotel, says, berry, south, new, sign, mo...   \n",
       "8  [trump, tariffs, education, war, minister, gov...   \n",
       "9  [dutton, updated, minister, sydney, tariffs, t...   \n",
       "\n",
       "                                                 nmf  \n",
       "0  [kids, sea, photograph, new, water, offers, ho...  \n",
       "1  [bells, surfing, wsl, nichols, ewing, bell, fi...  \n",
       "2  [bells, surfing, wsl, nichols, ewing, bell, fi...  \n",
       "3  [festival, sunday, arts, talks, lineup, music,...  \n",
       "4  [sand, said, competitors, artists, year, compe...  \n",
       "5  [food, person, good, fresh, travel, including,...  \n",
       "6  [sierra, surfing, josh, kerr, says, wsl, fathe...  \n",
       "7  [kids, sea, photograph, new, water, offers, ho...  \n",
       "8  [trump, dutton, tariffs, minister, updated, go...  \n",
       "9  [trump, dutton, tariffs, minister, updated, go...  "
      ]
     },
     "execution_count": 46,
     "metadata": {},
     "output_type": "execute_result"
    }
   ],
   "source": [
    "num_topics = 7\n",
    "\n",
    "nmf_model = NMF(n_components = num_topics, init = 'random', beta_loss = 'frobenius')\n",
    "\n",
    "doc_topic_nmf = nmf_model.fit_transform(tfidf_dt_matrix)\n",
    "topic_term_nmf = nmf_model.components_\n",
    "\n",
    "nmf_topic_dict_test = {}\n",
    "for index, topic in enumerate(topic_term_nmf):\n",
    "    zipped = zip(feature_names, topic)\n",
    "    top_terms=dict(sorted(zipped, key = lambda t: t[1], reverse=True)[:10])\n",
    "    \n",
    "    top_terms_list= {key : round(top_terms[key], 4) for key in top_terms.keys()}\n",
    "    nmf_topic_dict[f\"topic_{index}\"] = top_terms_list\n",
    "\n",
    "for idx,topic in enumerate(doc_topic_nmf):\n",
    "    topic_num = topic.argmax()\n",
    "    top_topic = nmf_topic_dict[f\"topic_{topic_num}\"]\n",
    "    terms_df.at[idx,'nmf'] = list(top_topic.keys())\n",
    "\n",
    "terms_df"
   ]
  },
  {
   "cell_type": "code",
   "execution_count": 47,
   "id": "cdb29a03-b2ba-4ca4-af05-ac84cef9f606",
   "metadata": {},
   "outputs": [
    {
     "name": "stdout",
     "output_type": "stream",
     "text": [
      "[1] ‘Best day of my life’, ‘surreal and special’: Australian victories at Bells Beach mean more to local surfers | Kieran Pender [2025-04-28T02:37:27Z]\n",
      "\t>> TFIDF:\t ['bells', 'nichols', 'wsl', 'surfing', 'robinson', 'finals', 'ewing', 'bell', 'beach', 'australian']\n",
      "\t>> NMF:\t\t ['bells', 'surfing', 'wsl', 'nichols', 'ewing', 'bell', 'finals', 'season', 'australian', 'pro']\n",
      "\n",
      "[4] ‘A meditative practice’: the Australian Sand Sculpting Championships 2025 [2025-04-08T04:58:45Z]\n",
      "\t>> TFIDF:\t ['sand', 'said', 'competitors', 'artists', 'year', 'competition', 'theme', '2019', 'easier', 'block']\n",
      "\t>> NMF:\t\t ['sand', 'said', 'competitors', 'artists', 'year', 'competition', 'block', 'looking', '2019', 'compared']\n",
      "\n",
      "[5] Away with Sofia Levin: ‘I tried raw pig’s blood soup. If it’s good enough for Bourdain, it’s good enough for me’ [2025-04-27T15:00:39Z]\n",
      "\t>> TFIDF:\t ['food', 'person', 'good', 'including', 'travel', 'fresh', 'visit', 'wrong', 'travelling', 'buffet']\n",
      "\t>> NMF:\t\t ['food', 'person', 'good', 'fresh', 'travel', 'including', 'visit', 'visited', 'wrong', 'buffet']\n",
      "\n",
      "[7] New renovations, retro vibes: reviving Australia’s rundown motels [2025-04-26T00:00:48Z]\n",
      "\t>> TFIDF:\t ['sea', 'hotel', 'says', 'berry', 'south', 'new', 'sign', 'molly', 'pool', 'want']\n",
      "\t>> NMF:\t\t ['kids', 'sea', 'photograph', 'new', 'water', 'offers', 'hotel', 'room', 'pool', 'chance']\n",
      "\n",
      "[8] Morning Mail: Trump threatens more China tariffs, Dutton’s ‘isolationist’ student plan, Fowler fires up Matildas [2025-04-07T20:48:39Z]\n",
      "\t>> TFIDF:\t ['trump', 'tariffs', 'education', 'war', 'minister', 'government', 'higher', 'students', 'plans', 'news']\n",
      "\t>> NMF:\t\t ['trump', 'dutton', 'tariffs', 'minister', 'updated', 'government', 'coalition', 'peter', 'sydney', 'prime']\n",
      "\n"
     ]
    }
   ],
   "source": [
    "# Sample 5 random articles\n",
    "samples = random.sample(range(0,len(terms_df)),5)\n",
    "\n",
    "for sample in samples:\n",
    "    doc = terms_df.iloc[sample]\n",
    "    print(f\"[{sample}] {doc['title']}\")\n",
    "    print(\"\\t>> TFIDF:\\t\",doc['tfidf'])\n",
    "    print(\"\\t>> NMF:\\t\\t\",doc['nmf'])\n",
    "    print()"
   ]
  },
  {
   "cell_type": "markdown",
   "id": "2e31aec1-ce7c-4afb-9bb8-7ba44cafb46b",
   "metadata": {},
   "source": [
    "---\n",
    "\n",
    "# Insights\n",
    "\n",
    "## Key Findings\n",
    "\n",
    "Our analysis revealed that a major surfing event in April 2025 has been receiving significant media attention, with three articles on the topic published in The Guardian over the past month. Using both TF-IDF and NMF techniques, we identified key topics related to surfing, WSL (World Surf League), festivals, food and travel, and political issues.\n",
    "\n",
    "These findings present a valuable opportunity for Flight Centre to capitalise on the current media buzz by creating timely and relevant content focused on surfing and associated leisure activities. In particular, this can support broader efforts to promote tourism in Gold Coast. For example, Flight Centre could develop campaigns that highlight local festivals and culinary experiences, aligning with the themes currently gaining media traction.\n",
    "\n",
    "## Benefits to Stakeholders\n",
    "\n",
    "The analysis directly supports Flight Centre in identifying emerging themes to inform marketing and campaign planning. By identifying popular and potentially influential topics, such as surfing and tourism-related events, we have pinpointed areas where Flight Centre can align its marketing message to resonate with current public interest.\n",
    "\n",
    "## Limitations\n",
    "\n",
    "It is important to acknowledge the technical limitations and biases of decontextualised algorithms. Both TF-IDF and NMF are machine learning methods that analyse text without understanding its context or nuance. As a result, they may assign topics based purely on word frequency and statistical patterns, without accounting for meaning, tone, or intent.\n",
    "\n",
    "In addition, the content *The Guardian* publishes is based on editorial decisions. This raises up an important ethical consideration under the representation of data since articles may reflect the editorial bias and thematic framing. Whale watching might be framed more as a conservation issue than a tourism opportunity, and insights derived from these articles, as a result, may emphasises on risks, ethical considerations or climate issues rather than tourist appeal. Which means, topic models trained solely on these contents could amplify a particular narrative, leading to an unbalanced view of what tourists actually interested in. As a result, it is highly suggested that Flight Centre should also supplement this report with other sources where possible, such as other newspapers, social media platforms to achieve a comprehensive understanding of the topic of interest.\n",
    "\n",
    "Last but not least, with only 10 articles, findings are not generalisable and might not reflect broader public discourse or interest.\n",
    "These limitations mean that Flight Centre should treat the current findings as preliminary indicators, not definitive conclusions. Acting on them without further context or validation could result in ineffective or misaligned campaigns.\n",
    "\n",
    "## Ethical considerations\n",
    "\n",
    "Data representation was a key concern. As mentioned above, relying on editorially curated content introduces inherent bias. Furthermore, topic models might oversimplify or misrepresent complex narratives. There is also a risk of generating content that is tone-deaf or inappropriate, especially if articles highlight negative incidents.\n",
    "\n",
    "## Area of Improvement\n",
    "\n",
    "To address the limitations and ethical considerations of this report, we recommend a careful human review of the articles and suggest supplementing the dataset with additional sources, such as social media platforms and alternative news outlets.\n",
    "\n",
    "For future reports, we propose incorporating sentiment analysis or context-aware NLP models to gain a deeper understanding of the tone and nuance in the extracted articles. Expanding the dataset to include content from multiple news sources and social media will also enhance the diversity and representativeness of the analysis. Additionally, applying topic coherence validation and incorporating human labeling will improve the interpretability and reliability of the model outputs.\n",
    "\n",
    "It is important to note that these improvements were not implemented in this report, as the primary objective was to establish a foundational workflow and demonstrate the potential value of automated topic modeling to support campaign planning."
   ]
  }
 ],
 "metadata": {
  "creation_period": "",
  "kernelspec": {
   "display_name": "Python [conda env:base] *",
   "language": "python",
   "name": "conda-base-py"
  },
  "language_info": {
   "codemirror_mode": {
    "name": "ipython",
    "version": 3
   },
   "file_extension": ".py",
   "mimetype": "text/x-python",
   "name": "python",
   "nbconvert_exporter": "python",
   "pygments_lexer": "ipython3",
   "version": "3.12.7"
  },
  "nb_name": "template",
  "qut": {
   "creation_period": "2023_sem1",
   "nb_name": "template-assignment2",
   "unit_code": "IFN619"
  },
  "unit_code": "",
  "vscode": {
   "interpreter": {
    "hash": "d4d1e4263499bec80672ea0156c357c1ee493ec2b1c70f0acce89fc37c4a6abe"
   }
  }
 },
 "nbformat": 4,
 "nbformat_minor": 5
}
